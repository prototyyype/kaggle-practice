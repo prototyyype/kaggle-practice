{
 "cells": [
  {
   "cell_type": "markdown",
   "id": "0d5a1eda",
   "metadata": {
    "papermill": {
     "duration": 0.010266,
     "end_time": "2022-12-07T00:32:27.575320",
     "exception": false,
     "start_time": "2022-12-07T00:32:27.565054",
     "status": "completed"
    },
    "tags": []
   },
   "source": [
    "**This notebook is an exercise in the [Data Visualization](https://www.kaggle.com/learn/data-visualization) course.  You can reference the tutorial at [this link](https://www.kaggle.com/alexisbcook/scatter-plots).**\n",
    "\n",
    "---\n"
   ]
  },
  {
   "cell_type": "markdown",
   "id": "28dce93c",
   "metadata": {
    "papermill": {
     "duration": 0.008066,
     "end_time": "2022-12-07T00:32:27.592241",
     "exception": false,
     "start_time": "2022-12-07T00:32:27.584175",
     "status": "completed"
    },
    "tags": []
   },
   "source": [
    "In this exercise, you will use your new knowledge to propose a solution to a real-world scenario.  To succeed, you will need to import data into Python, answer questions using the data, and generate **scatter plots** to understand patterns in the data.\n",
    "\n",
    "## Scenario\n",
    "\n",
    "You work for a major candy producer, and your goal is to write a report that your company can use to guide the design of its next product.  Soon after starting your research, you stumble across this [very interesting dataset](https://fivethirtyeight.com/features/the-ultimate-halloween-candy-power-ranking/) containing results from a fun survey to crowdsource favorite candies.\n",
    "\n",
    "## Setup\n",
    "\n",
    "Run the next cell to import and configure the Python libraries that you need to complete the exercise."
   ]
  },
  {
   "cell_type": "code",
   "execution_count": 1,
   "id": "0b8d3a4f",
   "metadata": {
    "execution": {
     "iopub.execute_input": "2022-12-07T00:32:27.611293Z",
     "iopub.status.busy": "2022-12-07T00:32:27.610497Z",
     "iopub.status.idle": "2022-12-07T00:32:28.807156Z",
     "shell.execute_reply": "2022-12-07T00:32:28.805208Z"
    },
    "papermill": {
     "duration": 1.210071,
     "end_time": "2022-12-07T00:32:28.810610",
     "exception": false,
     "start_time": "2022-12-07T00:32:27.600539",
     "status": "completed"
    },
    "tags": []
   },
   "outputs": [
    {
     "name": "stdout",
     "output_type": "stream",
     "text": [
      "Setup Complete\n"
     ]
    }
   ],
   "source": [
    "import pandas as pd\n",
    "pd.plotting.register_matplotlib_converters()\n",
    "import matplotlib.pyplot as plt\n",
    "%matplotlib inline\n",
    "import seaborn as sns\n",
    "print(\"Setup Complete\")"
   ]
  },
  {
   "cell_type": "markdown",
   "id": "ad8fe396",
   "metadata": {
    "papermill": {
     "duration": 0.008607,
     "end_time": "2022-12-07T00:32:28.829328",
     "exception": false,
     "start_time": "2022-12-07T00:32:28.820721",
     "status": "completed"
    },
    "tags": []
   },
   "source": [
    "The questions below will give you feedback on your work. Run the following cell to set up our feedback system."
   ]
  },
  {
   "cell_type": "code",
   "execution_count": 2,
   "id": "afd8a539",
   "metadata": {
    "execution": {
     "iopub.execute_input": "2022-12-07T00:32:28.849547Z",
     "iopub.status.busy": "2022-12-07T00:32:28.848314Z",
     "iopub.status.idle": "2022-12-07T00:32:28.926210Z",
     "shell.execute_reply": "2022-12-07T00:32:28.924762Z"
    },
    "papermill": {
     "duration": 0.090986,
     "end_time": "2022-12-07T00:32:28.928990",
     "exception": false,
     "start_time": "2022-12-07T00:32:28.838004",
     "status": "completed"
    },
    "tags": []
   },
   "outputs": [
    {
     "name": "stdout",
     "output_type": "stream",
     "text": [
      "Setup Complete\n"
     ]
    }
   ],
   "source": [
    "# Set up code checking\n",
    "import os\n",
    "if not os.path.exists(\"../input/candy.csv\"):\n",
    "    os.symlink(\"../input/data-for-datavis/candy.csv\", \"../input/candy.csv\") \n",
    "from learntools.core import binder\n",
    "binder.bind(globals())\n",
    "from learntools.data_viz_to_coder.ex4 import *\n",
    "print(\"Setup Complete\")"
   ]
  },
  {
   "cell_type": "markdown",
   "id": "b986b241",
   "metadata": {
    "papermill": {
     "duration": 0.008397,
     "end_time": "2022-12-07T00:32:28.947781",
     "exception": false,
     "start_time": "2022-12-07T00:32:28.939384",
     "status": "completed"
    },
    "tags": []
   },
   "source": [
    "## Step 1: Load the Data\n",
    "\n",
    "Read the candy data file into `candy_data`.  Use the `\"id\"` column to label the rows."
   ]
  },
  {
   "cell_type": "code",
   "execution_count": 3,
   "id": "9801a8b7",
   "metadata": {
    "execution": {
     "iopub.execute_input": "2022-12-07T00:32:28.967022Z",
     "iopub.status.busy": "2022-12-07T00:32:28.966578Z",
     "iopub.status.idle": "2022-12-07T00:32:28.982686Z",
     "shell.execute_reply": "2022-12-07T00:32:28.981185Z"
    },
    "papermill": {
     "duration": 0.02848,
     "end_time": "2022-12-07T00:32:28.985059",
     "exception": false,
     "start_time": "2022-12-07T00:32:28.956579",
     "status": "completed"
    },
    "tags": []
   },
   "outputs": [
    {
     "data": {
      "application/javascript": [
       "parent.postMessage({\"jupyterEvent\": \"custom.exercise_interaction\", \"data\": {\"outcomeType\": 1, \"valueTowardsCompletion\": 0.3333333333333333, \"interactionType\": 1, \"questionType\": 1, \"questionId\": \"1_LoadData\", \"learnToolsVersion\": \"0.3.4\", \"failureMessage\": \"\", \"exceptionClass\": \"\", \"trace\": \"\"}}, \"*\")"
      ],
      "text/plain": [
       "<IPython.core.display.Javascript object>"
      ]
     },
     "metadata": {},
     "output_type": "display_data"
    },
    {
     "data": {
      "text/markdown": [
       "<span style=\"color:#33cc33\">Correct</span>"
      ],
      "text/plain": [
       "Correct"
      ]
     },
     "metadata": {},
     "output_type": "display_data"
    }
   ],
   "source": [
    "# Path of the file to read\n",
    "candy_filepath = \"../input/candy.csv\"\n",
    "\n",
    "# Fill in the line below to read the file into a variable candy_data\n",
    "candy_data = pd.read_csv(candy_filepath, index_col=\"id\")\n",
    "\n",
    "# Run the line below with no changes to check that you've loaded the data correctly\n",
    "step_1.check()"
   ]
  },
  {
   "cell_type": "code",
   "execution_count": 4,
   "id": "f226ac2f",
   "metadata": {
    "execution": {
     "iopub.execute_input": "2022-12-07T00:32:29.005532Z",
     "iopub.status.busy": "2022-12-07T00:32:29.004454Z",
     "iopub.status.idle": "2022-12-07T00:32:29.009440Z",
     "shell.execute_reply": "2022-12-07T00:32:29.008577Z"
    },
    "papermill": {
     "duration": 0.017422,
     "end_time": "2022-12-07T00:32:29.011512",
     "exception": false,
     "start_time": "2022-12-07T00:32:28.994090",
     "status": "completed"
    },
    "tags": []
   },
   "outputs": [],
   "source": [
    "# Lines below will give you a hint or solution code\n",
    "#step_1.hint()\n",
    "#step_1.solution()"
   ]
  },
  {
   "cell_type": "markdown",
   "id": "f7191e0a",
   "metadata": {
    "papermill": {
     "duration": 0.008515,
     "end_time": "2022-12-07T00:32:29.029725",
     "exception": false,
     "start_time": "2022-12-07T00:32:29.021210",
     "status": "completed"
    },
    "tags": []
   },
   "source": [
    "## Step 2: Review the data\n",
    "\n",
    "Use a Python command to print the first five rows of the data."
   ]
  },
  {
   "cell_type": "code",
   "execution_count": 5,
   "id": "101a9f2d",
   "metadata": {
    "execution": {
     "iopub.execute_input": "2022-12-07T00:32:29.049603Z",
     "iopub.status.busy": "2022-12-07T00:32:29.048981Z",
     "iopub.status.idle": "2022-12-07T00:32:29.071002Z",
     "shell.execute_reply": "2022-12-07T00:32:29.069522Z"
    },
    "papermill": {
     "duration": 0.034889,
     "end_time": "2022-12-07T00:32:29.073516",
     "exception": false,
     "start_time": "2022-12-07T00:32:29.038627",
     "status": "completed"
    },
    "tags": []
   },
   "outputs": [
    {
     "data": {
      "text/html": [
       "<div>\n",
       "<style scoped>\n",
       "    .dataframe tbody tr th:only-of-type {\n",
       "        vertical-align: middle;\n",
       "    }\n",
       "\n",
       "    .dataframe tbody tr th {\n",
       "        vertical-align: top;\n",
       "    }\n",
       "\n",
       "    .dataframe thead th {\n",
       "        text-align: right;\n",
       "    }\n",
       "</style>\n",
       "<table border=\"1\" class=\"dataframe\">\n",
       "  <thead>\n",
       "    <tr style=\"text-align: right;\">\n",
       "      <th></th>\n",
       "      <th>competitorname</th>\n",
       "      <th>chocolate</th>\n",
       "      <th>fruity</th>\n",
       "      <th>caramel</th>\n",
       "      <th>peanutyalmondy</th>\n",
       "      <th>nougat</th>\n",
       "      <th>crispedricewafer</th>\n",
       "      <th>hard</th>\n",
       "      <th>bar</th>\n",
       "      <th>pluribus</th>\n",
       "      <th>sugarpercent</th>\n",
       "      <th>pricepercent</th>\n",
       "      <th>winpercent</th>\n",
       "    </tr>\n",
       "    <tr>\n",
       "      <th>id</th>\n",
       "      <th></th>\n",
       "      <th></th>\n",
       "      <th></th>\n",
       "      <th></th>\n",
       "      <th></th>\n",
       "      <th></th>\n",
       "      <th></th>\n",
       "      <th></th>\n",
       "      <th></th>\n",
       "      <th></th>\n",
       "      <th></th>\n",
       "      <th></th>\n",
       "      <th></th>\n",
       "    </tr>\n",
       "  </thead>\n",
       "  <tbody>\n",
       "    <tr>\n",
       "      <th>0</th>\n",
       "      <td>100 Grand</td>\n",
       "      <td>Yes</td>\n",
       "      <td>No</td>\n",
       "      <td>Yes</td>\n",
       "      <td>No</td>\n",
       "      <td>No</td>\n",
       "      <td>Yes</td>\n",
       "      <td>No</td>\n",
       "      <td>Yes</td>\n",
       "      <td>No</td>\n",
       "      <td>0.732</td>\n",
       "      <td>0.860</td>\n",
       "      <td>66.971725</td>\n",
       "    </tr>\n",
       "    <tr>\n",
       "      <th>1</th>\n",
       "      <td>3 Musketeers</td>\n",
       "      <td>Yes</td>\n",
       "      <td>No</td>\n",
       "      <td>No</td>\n",
       "      <td>No</td>\n",
       "      <td>Yes</td>\n",
       "      <td>No</td>\n",
       "      <td>No</td>\n",
       "      <td>Yes</td>\n",
       "      <td>No</td>\n",
       "      <td>0.604</td>\n",
       "      <td>0.511</td>\n",
       "      <td>67.602936</td>\n",
       "    </tr>\n",
       "    <tr>\n",
       "      <th>2</th>\n",
       "      <td>Air Heads</td>\n",
       "      <td>No</td>\n",
       "      <td>Yes</td>\n",
       "      <td>No</td>\n",
       "      <td>No</td>\n",
       "      <td>No</td>\n",
       "      <td>No</td>\n",
       "      <td>No</td>\n",
       "      <td>No</td>\n",
       "      <td>No</td>\n",
       "      <td>0.906</td>\n",
       "      <td>0.511</td>\n",
       "      <td>52.341465</td>\n",
       "    </tr>\n",
       "    <tr>\n",
       "      <th>3</th>\n",
       "      <td>Almond Joy</td>\n",
       "      <td>Yes</td>\n",
       "      <td>No</td>\n",
       "      <td>No</td>\n",
       "      <td>Yes</td>\n",
       "      <td>No</td>\n",
       "      <td>No</td>\n",
       "      <td>No</td>\n",
       "      <td>Yes</td>\n",
       "      <td>No</td>\n",
       "      <td>0.465</td>\n",
       "      <td>0.767</td>\n",
       "      <td>50.347546</td>\n",
       "    </tr>\n",
       "    <tr>\n",
       "      <th>4</th>\n",
       "      <td>Baby Ruth</td>\n",
       "      <td>Yes</td>\n",
       "      <td>No</td>\n",
       "      <td>Yes</td>\n",
       "      <td>Yes</td>\n",
       "      <td>Yes</td>\n",
       "      <td>No</td>\n",
       "      <td>No</td>\n",
       "      <td>Yes</td>\n",
       "      <td>No</td>\n",
       "      <td>0.604</td>\n",
       "      <td>0.767</td>\n",
       "      <td>56.914547</td>\n",
       "    </tr>\n",
       "  </tbody>\n",
       "</table>\n",
       "</div>"
      ],
      "text/plain": [
       "   competitorname chocolate fruity caramel peanutyalmondy nougat  \\\n",
       "id                                                                 \n",
       "0       100 Grand       Yes     No     Yes             No     No   \n",
       "1    3 Musketeers       Yes     No      No             No    Yes   \n",
       "2       Air Heads        No    Yes      No             No     No   \n",
       "3      Almond Joy       Yes     No      No            Yes     No   \n",
       "4       Baby Ruth       Yes     No     Yes            Yes    Yes   \n",
       "\n",
       "   crispedricewafer hard  bar pluribus  sugarpercent  pricepercent  winpercent  \n",
       "id                                                                              \n",
       "0               Yes   No  Yes       No         0.732         0.860   66.971725  \n",
       "1                No   No  Yes       No         0.604         0.511   67.602936  \n",
       "2                No   No   No       No         0.906         0.511   52.341465  \n",
       "3                No   No  Yes       No         0.465         0.767   50.347546  \n",
       "4                No   No  Yes       No         0.604         0.767   56.914547  "
      ]
     },
     "execution_count": 5,
     "metadata": {},
     "output_type": "execute_result"
    }
   ],
   "source": [
    "# Print the first five rows of the data\n",
    "candy_data.head()"
   ]
  },
  {
   "cell_type": "markdown",
   "id": "46243e81",
   "metadata": {
    "papermill": {
     "duration": 0.008805,
     "end_time": "2022-12-07T00:32:29.091815",
     "exception": false,
     "start_time": "2022-12-07T00:32:29.083010",
     "status": "completed"
    },
    "tags": []
   },
   "source": [
    "The dataset contains 83 rows, where each corresponds to a different candy bar.  There are 13 columns:\n",
    "- `'competitorname'` contains the name of the candy bar. \n",
    "- the next **9** columns (from `'chocolate'` to `'pluribus'`) describe the candy.  For instance, rows with chocolate candies have `\"Yes\"` in the `'chocolate'` column (and candies without chocolate have `\"No\"` in the same column).\n",
    "- `'sugarpercent'` provides some indication of the amount of sugar, where higher values signify higher sugar content.\n",
    "- `'pricepercent'` shows the price per unit, relative to the other candies in the dataset.\n",
    "- `'winpercent'` is calculated from the survey results; higher values indicate that the candy was more popular with survey respondents.\n",
    "\n",
    "Use the first five rows of the data to answer the questions below."
   ]
  },
  {
   "cell_type": "code",
   "execution_count": 6,
   "id": "6cf65968",
   "metadata": {
    "execution": {
     "iopub.execute_input": "2022-12-07T00:32:29.112144Z",
     "iopub.status.busy": "2022-12-07T00:32:29.111653Z",
     "iopub.status.idle": "2022-12-07T00:32:29.124887Z",
     "shell.execute_reply": "2022-12-07T00:32:29.123982Z"
    },
    "papermill": {
     "duration": 0.025923,
     "end_time": "2022-12-07T00:32:29.126973",
     "exception": false,
     "start_time": "2022-12-07T00:32:29.101050",
     "status": "completed"
    },
    "tags": []
   },
   "outputs": [
    {
     "data": {
      "application/javascript": [
       "parent.postMessage({\"jupyterEvent\": \"custom.exercise_interaction\", \"data\": {\"outcomeType\": 1, \"valueTowardsCompletion\": 0.3333333333333333, \"interactionType\": 1, \"questionType\": 1, \"questionId\": \"2_ReviewData\", \"learnToolsVersion\": \"0.3.4\", \"failureMessage\": \"\", \"exceptionClass\": \"\", \"trace\": \"\"}}, \"*\")"
      ],
      "text/plain": [
       "<IPython.core.display.Javascript object>"
      ]
     },
     "metadata": {},
     "output_type": "display_data"
    },
    {
     "data": {
      "text/markdown": [
       "<span style=\"color:#33cc33\">Correct</span>"
      ],
      "text/plain": [
       "Correct"
      ]
     },
     "metadata": {},
     "output_type": "display_data"
    }
   ],
   "source": [
    "sample_first_five = candy_data[:5]\n",
    "\n",
    "# 1. Most popular candy\n",
    "top_rated_index = sample_first_five.winpercent.argmax()\n",
    "more_popular = sample_first_five.iloc[top_rated_index].competitorname\n",
    "\n",
    "# 2. Higher Sugar content\n",
    "high_sugar_index = sample_first_five.sugarpercent.argmax()\n",
    "more_sugar = sample_first_five.iloc[high_sugar_index].competitorname\n",
    "\n",
    "# Fill in the line below: Which candy was more popular with survey respondents:\n",
    "# '3 Musketeers' or 'Almond Joy'?  (Please enclose your answer in single quotes.)\n",
    "# more_popular = '3 Musketeers'\n",
    "\n",
    "# Fill in the line below: Which candy has higher sugar content: 'Air Heads'\n",
    "# or 'Baby Ruth'? (Please enclose your answer in single quotes.)\n",
    "# more_sugar = 'Air Heads'\n",
    "\n",
    "# Check your answers\n",
    "step_2.check()"
   ]
  },
  {
   "cell_type": "code",
   "execution_count": 7,
   "id": "c8d4945e",
   "metadata": {
    "execution": {
     "iopub.execute_input": "2022-12-07T00:32:29.148123Z",
     "iopub.status.busy": "2022-12-07T00:32:29.147503Z",
     "iopub.status.idle": "2022-12-07T00:32:29.151410Z",
     "shell.execute_reply": "2022-12-07T00:32:29.150506Z"
    },
    "papermill": {
     "duration": 0.017084,
     "end_time": "2022-12-07T00:32:29.153541",
     "exception": false,
     "start_time": "2022-12-07T00:32:29.136457",
     "status": "completed"
    },
    "tags": []
   },
   "outputs": [],
   "source": [
    "# Lines below will give you a hint or solution code\n",
    "#step_2.hint()\n",
    "#step_2.solution()"
   ]
  },
  {
   "cell_type": "markdown",
   "id": "75a913b7",
   "metadata": {
    "papermill": {
     "duration": 0.009933,
     "end_time": "2022-12-07T00:32:29.173494",
     "exception": false,
     "start_time": "2022-12-07T00:32:29.163561",
     "status": "completed"
    },
    "tags": []
   },
   "source": [
    "## Step 3: The role of sugar\n",
    "\n",
    "Do people tend to prefer candies with higher sugar content?  \n",
    "\n",
    "#### Part A\n",
    "\n",
    "Create a scatter plot that shows the relationship between `'sugarpercent'` (on the horizontal x-axis) and `'winpercent'` (on the vertical y-axis).  _Don't add a regression line just yet -- you'll do that in the next step!_"
   ]
  },
  {
   "cell_type": "code",
   "execution_count": 8,
   "id": "1517a48b",
   "metadata": {
    "execution": {
     "iopub.execute_input": "2022-12-07T00:32:29.195280Z",
     "iopub.status.busy": "2022-12-07T00:32:29.194565Z",
     "iopub.status.idle": "2022-12-07T00:32:29.499764Z",
     "shell.execute_reply": "2022-12-07T00:32:29.498812Z"
    },
    "papermill": {
     "duration": 0.318564,
     "end_time": "2022-12-07T00:32:29.501935",
     "exception": false,
     "start_time": "2022-12-07T00:32:29.183371",
     "status": "completed"
    },
    "tags": []
   },
   "outputs": [
    {
     "data": {
      "application/javascript": [
       "parent.postMessage({\"jupyterEvent\": \"custom.exercise_interaction\", \"data\": {\"outcomeType\": 1, \"valueTowardsCompletion\": 0.3333333333333333, \"interactionType\": 1, \"questionType\": 2, \"questionId\": \"3.1_PlotBlueScatter\", \"learnToolsVersion\": \"0.3.4\", \"failureMessage\": \"\", \"exceptionClass\": \"\", \"trace\": \"\"}}, \"*\")"
      ],
      "text/plain": [
       "<IPython.core.display.Javascript object>"
      ]
     },
     "metadata": {},
     "output_type": "display_data"
    },
    {
     "data": {
      "text/markdown": [
       "<span style=\"color:#33cc33\">Correct</span>"
      ],
      "text/plain": [
       "Correct"
      ]
     },
     "metadata": {},
     "output_type": "display_data"
    },
    {
     "data": {
      "image/png": "[encoded data removed]",
      "text/plain": [
       "<Figure size 864x432 with 1 Axes>"
      ]
     },
     "metadata": {
      "needs_background": "light"
     },
     "output_type": "display_data"
    }
   ],
   "source": [
    "# Scatter plot showing the relationship between 'sugarpercent' and 'winpercent'\n",
    "plt.figure(figsize = (12,6))\n",
    "sns.scatterplot(x=candy_data['sugarpercent'], y=candy_data['winpercent'])\n",
    "plt.title(\"Percent of Sugar vs. Percent Ratings\")\n",
    "\n",
    "# Check your answer\n",
    "step_3.a.check()"
   ]
  },
  {
   "cell_type": "code",
   "execution_count": 9,
   "id": "24016bc5",
   "metadata": {
    "execution": {
     "iopub.execute_input": "2022-12-07T00:32:29.524612Z",
     "iopub.status.busy": "2022-12-07T00:32:29.523802Z",
     "iopub.status.idle": "2022-12-07T00:32:29.528772Z",
     "shell.execute_reply": "2022-12-07T00:32:29.527669Z"
    },
    "papermill": {
     "duration": 0.018779,
     "end_time": "2022-12-07T00:32:29.531164",
     "exception": false,
     "start_time": "2022-12-07T00:32:29.512385",
     "status": "completed"
    },
    "tags": []
   },
   "outputs": [],
   "source": [
    "# Lines below will give you a hint or solution code\n",
    "#step_3.a.hint()\n",
    "# step_3.a.solution_plot()"
   ]
  },
  {
   "cell_type": "markdown",
   "id": "2a867ce1",
   "metadata": {
    "papermill": {
     "duration": 0.009666,
     "end_time": "2022-12-07T00:32:29.551105",
     "exception": false,
     "start_time": "2022-12-07T00:32:29.541439",
     "status": "completed"
    },
    "tags": []
   },
   "source": [
    "#### Part B\n",
    "\n",
    "Does the scatter plot show a **strong** correlation between the two variables?  If so, are candies with more sugar relatively more or less popular with the survey respondents?"
   ]
  },
  {
   "cell_type": "code",
   "execution_count": 10,
   "id": "7b14eeec",
   "metadata": {
    "execution": {
     "iopub.execute_input": "2022-12-07T00:32:29.572972Z",
     "iopub.status.busy": "2022-12-07T00:32:29.572511Z",
     "iopub.status.idle": "2022-12-07T00:32:29.577631Z",
     "shell.execute_reply": "2022-12-07T00:32:29.576427Z"
    },
    "papermill": {
     "duration": 0.018501,
     "end_time": "2022-12-07T00:32:29.579719",
     "exception": false,
     "start_time": "2022-12-07T00:32:29.561218",
     "status": "completed"
    },
    "tags": []
   },
   "outputs": [],
   "source": [
    "# Not really\n",
    "#step_3.b.hint()"
   ]
  },
  {
   "cell_type": "code",
   "execution_count": 11,
   "id": "6c01de5c",
   "metadata": {
    "execution": {
     "iopub.execute_input": "2022-12-07T00:32:29.601651Z",
     "iopub.status.busy": "2022-12-07T00:32:29.601219Z",
     "iopub.status.idle": "2022-12-07T00:32:29.610454Z",
     "shell.execute_reply": "2022-12-07T00:32:29.609394Z"
    },
    "papermill": {
     "duration": 0.022541,
     "end_time": "2022-12-07T00:32:29.612630",
     "exception": false,
     "start_time": "2022-12-07T00:32:29.590089",
     "status": "completed"
    },
    "tags": []
   },
   "outputs": [
    {
     "data": {
      "application/javascript": [
       "parent.postMessage({\"jupyterEvent\": \"custom.exercise_interaction\", \"data\": {\"interactionType\": 3, \"questionType\": 4, \"questionId\": \"3.2_ThinkBlueScatter\", \"learnToolsVersion\": \"0.3.4\", \"valueTowardsCompletion\": 0.0, \"failureMessage\": \"\", \"exceptionClass\": \"\", \"trace\": \"\", \"outcomeType\": 4}}, \"*\")"
      ],
      "text/plain": [
       "<IPython.core.display.Javascript object>"
      ]
     },
     "metadata": {},
     "output_type": "display_data"
    },
    {
     "data": {
      "text/markdown": [
       "<span style=\"color:#33cc99\">Solution:</span> The scatter plot does not show a strong correlation between the two variables. Since there is no clear relationship between the two variables, this tells us that sugar content does not play a strong role in candy popularity."
      ],
      "text/plain": [
       "Solution: The scatter plot does not show a strong correlation between the two variables. Since there is no clear relationship between the two variables, this tells us that sugar content does not play a strong role in candy popularity."
      ]
     },
     "metadata": {},
     "output_type": "display_data"
    }
   ],
   "source": [
    "# Check your answer (Run this code cell to receive credit!)\n",
    "step_3.b.solution()"
   ]
  },
  {
   "cell_type": "markdown",
   "id": "9523d35e",
   "metadata": {
    "papermill": {
     "duration": 0.010374,
     "end_time": "2022-12-07T00:32:29.633318",
     "exception": false,
     "start_time": "2022-12-07T00:32:29.622944",
     "status": "completed"
    },
    "tags": []
   },
   "source": [
    "## Step 4: Take a closer look\n",
    "\n",
    "#### Part A\n",
    "\n",
    "Create the same scatter plot you created in **Step 3**, but now with a regression line!"
   ]
  },
  {
   "cell_type": "code",
   "execution_count": 12,
   "id": "417d55a7",
   "metadata": {
    "execution": {
     "iopub.execute_input": "2022-12-07T00:32:29.656216Z",
     "iopub.status.busy": "2022-12-07T00:32:29.655224Z",
     "iopub.status.idle": "2022-12-07T00:32:30.035773Z",
     "shell.execute_reply": "2022-12-07T00:32:30.034522Z"
    },
    "papermill": {
     "duration": 0.39468,
     "end_time": "2022-12-07T00:32:30.038413",
     "exception": false,
     "start_time": "2022-12-07T00:32:29.643733",
     "status": "completed"
    },
    "tags": []
   },
   "outputs": [
    {
     "data": {
      "application/javascript": [
       "parent.postMessage({\"jupyterEvent\": \"custom.exercise_interaction\", \"data\": {\"outcomeType\": 1, \"valueTowardsCompletion\": 0.3333333333333333, \"interactionType\": 1, \"questionType\": 2, \"questionId\": \"4.1_PlotBlueReg\", \"learnToolsVersion\": \"0.3.4\", \"failureMessage\": \"\", \"exceptionClass\": \"\", \"trace\": \"\"}}, \"*\")"
      ],
      "text/plain": [
       "<IPython.core.display.Javascript object>"
      ]
     },
     "metadata": {},
     "output_type": "display_data"
    },
    {
     "data": {
      "text/markdown": [
       "<span style=\"color:#33cc33\">Correct</span>"
      ],
      "text/plain": [
       "Correct"
      ]
     },
     "metadata": {},
     "output_type": "display_data"
    },
    {
     "data": {
      "image/png": "[encoded data removed]",
      "text/plain": [
       "<Figure size 864x432 with 1 Axes>"
      ]
     },
     "metadata": {
      "needs_background": "light"
     },
     "output_type": "display_data"
    }
   ],
   "source": [
    "# Scatter plot w/ regression line showing the relationship between 'sugarpercent' and 'winpercent'\n",
    "plt.figure(figsize = (12,6))\n",
    "sns.regplot(x=candy_data['sugarpercent'], y=candy_data['winpercent'])\n",
    "plt.title(\"Percent of Sugar vs. Percent Ratings\")\n",
    "\n",
    "# Check your answer\n",
    "step_4.a.check()"
   ]
  },
  {
   "cell_type": "code",
   "execution_count": 13,
   "id": "1b3a970f",
   "metadata": {
    "execution": {
     "iopub.execute_input": "2022-12-07T00:32:30.062722Z",
     "iopub.status.busy": "2022-12-07T00:32:30.062310Z",
     "iopub.status.idle": "2022-12-07T00:32:30.067092Z",
     "shell.execute_reply": "2022-12-07T00:32:30.065953Z"
    },
    "papermill": {
     "duration": 0.020101,
     "end_time": "2022-12-07T00:32:30.069857",
     "exception": false,
     "start_time": "2022-12-07T00:32:30.049756",
     "status": "completed"
    },
    "tags": []
   },
   "outputs": [],
   "source": [
    "# Lines below will give you a hint or solution code\n",
    "#step_4.a.hint()\n",
    "# step_4.a.solution_plot()"
   ]
  },
  {
   "cell_type": "markdown",
   "id": "524979eb",
   "metadata": {
    "papermill": {
     "duration": 0.011693,
     "end_time": "2022-12-07T00:32:30.092858",
     "exception": false,
     "start_time": "2022-12-07T00:32:30.081165",
     "status": "completed"
    },
    "tags": []
   },
   "source": [
    "#### Part B\n",
    "\n",
    "According to the plot above, is there a **slight** correlation between `'winpercent'` and `'sugarpercent'`?  What does this tell you about the candy that people tend to prefer?"
   ]
  },
  {
   "cell_type": "code",
   "execution_count": 14,
   "id": "30629379",
   "metadata": {
    "execution": {
     "iopub.execute_input": "2022-12-07T00:32:30.116733Z",
     "iopub.status.busy": "2022-12-07T00:32:30.116283Z",
     "iopub.status.idle": "2022-12-07T00:32:30.121041Z",
     "shell.execute_reply": "2022-12-07T00:32:30.119813Z"
    },
    "papermill": {
     "duration": 0.019362,
     "end_time": "2022-12-07T00:32:30.123321",
     "exception": false,
     "start_time": "2022-12-07T00:32:30.103959",
     "status": "completed"
    },
    "tags": []
   },
   "outputs": [],
   "source": [
    "# The data shows that, generally speaking, surveyors prefer candies with more sugar\n",
    "\n",
    "#step_4.b.hint()"
   ]
  },
  {
   "cell_type": "code",
   "execution_count": 15,
   "id": "feb50b81",
   "metadata": {
    "execution": {
     "iopub.execute_input": "2022-12-07T00:32:30.147376Z",
     "iopub.status.busy": "2022-12-07T00:32:30.146808Z",
     "iopub.status.idle": "2022-12-07T00:32:30.156234Z",
     "shell.execute_reply": "2022-12-07T00:32:30.155104Z"
    },
    "papermill": {
     "duration": 0.024335,
     "end_time": "2022-12-07T00:32:30.158751",
     "exception": false,
     "start_time": "2022-12-07T00:32:30.134416",
     "status": "completed"
    },
    "tags": []
   },
   "outputs": [
    {
     "data": {
      "application/javascript": [
       "parent.postMessage({\"jupyterEvent\": \"custom.exercise_interaction\", \"data\": {\"interactionType\": 3, \"questionType\": 4, \"questionId\": \"4.2_ThinkBlueReg\", \"learnToolsVersion\": \"0.3.4\", \"valueTowardsCompletion\": 0.0, \"failureMessage\": \"\", \"exceptionClass\": \"\", \"trace\": \"\", \"outcomeType\": 4}}, \"*\")"
      ],
      "text/plain": [
       "<IPython.core.display.Javascript object>"
      ]
     },
     "metadata": {},
     "output_type": "display_data"
    },
    {
     "data": {
      "text/markdown": [
       "<span style=\"color:#33cc99\">Solution:</span> Since the regression line has a slightly positive slope, this tells us that there is a slightly positive correlation between `'winpercent'` and `'sugarpercent'`. Thus, people have a slight preference for candies containing relatively more sugar."
      ],
      "text/plain": [
       "Solution: Since the regression line has a slightly positive slope, this tells us that there is a slightly positive correlation between `'winpercent'` and `'sugarpercent'`. Thus, people have a slight preference for candies containing relatively more sugar."
      ]
     },
     "metadata": {},
     "output_type": "display_data"
    }
   ],
   "source": [
    "# Check your answer (Run this code cell to receive credit!)\n",
    "step_4.b.solution()"
   ]
  },
  {
   "cell_type": "markdown",
   "id": "f9c4414a",
   "metadata": {
    "papermill": {
     "duration": 0.010822,
     "end_time": "2022-12-07T00:32:30.181200",
     "exception": false,
     "start_time": "2022-12-07T00:32:30.170378",
     "status": "completed"
    },
    "tags": []
   },
   "source": [
    "## Step 5: Chocolate!\n",
    "\n",
    "In the code cell below, create a scatter plot to show the relationship between `'pricepercent'` (on the horizontal x-axis) and `'winpercent'` (on the vertical y-axis). Use the `'chocolate'` column to color-code the points.  _Don't add any regression lines just yet -- you'll do that in the next step!_"
   ]
  },
  {
   "cell_type": "code",
   "execution_count": 16,
   "id": "208a9950",
   "metadata": {
    "execution": {
     "iopub.execute_input": "2022-12-07T00:32:30.205697Z",
     "iopub.status.busy": "2022-12-07T00:32:30.205298Z",
     "iopub.status.idle": "2022-12-07T00:32:30.465103Z",
     "shell.execute_reply": "2022-12-07T00:32:30.463934Z"
    },
    "papermill": {
     "duration": 0.275692,
     "end_time": "2022-12-07T00:32:30.468094",
     "exception": false,
     "start_time": "2022-12-07T00:32:30.192402",
     "status": "completed"
    },
    "tags": []
   },
   "outputs": [
    {
     "data": {
      "application/javascript": [
       "parent.postMessage({\"jupyterEvent\": \"custom.exercise_interaction\", \"data\": {\"outcomeType\": 1, \"valueTowardsCompletion\": 0.3333333333333333, \"interactionType\": 1, \"questionType\": 2, \"questionId\": \"5_ColorScatter\", \"learnToolsVersion\": \"0.3.4\", \"failureMessage\": \"\", \"exceptionClass\": \"\", \"trace\": \"\"}}, \"*\")"
      ],
      "text/plain": [
       "<IPython.core.display.Javascript object>"
      ]
     },
     "metadata": {},
     "output_type": "display_data"
    },
    {
     "data": {
      "text/markdown": [
       "<span style=\"color:#33cc33\">Correct</span>"
      ],
      "text/plain": [
       "Correct"
      ]
     },
     "metadata": {},
     "output_type": "display_data"
    },
    {
     "data": {
      "image/png": "[encoded data removed]",
      "text/plain": [
       "<Figure size 432x288 with 1 Axes>"
      ]
     },
     "metadata": {
      "needs_background": "light"
     },
     "output_type": "display_data"
    }
   ],
   "source": [
    "# Scatter plot showing the relationship between 'pricepercent', 'winpercent', and 'chocolate'\n",
    "sns.scatterplot(x=candy_data['pricepercent'], y=candy_data['winpercent'], hue=candy_data['chocolate'])\n",
    "\n",
    "# Check your answer\n",
    "step_5.check()"
   ]
  },
  {
   "cell_type": "code",
   "execution_count": 17,
   "id": "f17bceed",
   "metadata": {
    "execution": {
     "iopub.execute_input": "2022-12-07T00:32:30.494168Z",
     "iopub.status.busy": "2022-12-07T00:32:30.493267Z",
     "iopub.status.idle": "2022-12-07T00:32:30.498318Z",
     "shell.execute_reply": "2022-12-07T00:32:30.497468Z"
    },
    "papermill": {
     "duration": 0.020365,
     "end_time": "2022-12-07T00:32:30.500529",
     "exception": false,
     "start_time": "2022-12-07T00:32:30.480164",
     "status": "completed"
    },
    "tags": []
   },
   "outputs": [],
   "source": [
    "# Lines below will give you a hint or solution code\n",
    "#step_5.hint()\n",
    "# step_5.solution_plot()"
   ]
  },
  {
   "cell_type": "markdown",
   "id": "317f347a",
   "metadata": {
    "papermill": {
     "duration": 0.011631,
     "end_time": "2022-12-07T00:32:30.524425",
     "exception": false,
     "start_time": "2022-12-07T00:32:30.512794",
     "status": "completed"
    },
    "tags": []
   },
   "source": [
    "Can you see any interesting patterns in the scatter plot?  We'll investigate this plot further  by adding regression lines in the next step!\n",
    "\n",
    "## Step 6: Investigate chocolate\n",
    "\n",
    "#### Part A\n",
    "\n",
    "Create the same scatter plot you created in **Step 5**, but now with two regression lines, corresponding to (1) chocolate candies and (2) candies without chocolate."
   ]
  },
  {
   "cell_type": "code",
   "execution_count": 18,
   "id": "d26befad",
   "metadata": {
    "execution": {
     "iopub.execute_input": "2022-12-07T00:32:30.551171Z",
     "iopub.status.busy": "2022-12-07T00:32:30.550728Z",
     "iopub.status.idle": "2022-12-07T00:32:31.121739Z",
     "shell.execute_reply": "2022-12-07T00:32:31.120532Z"
    },
    "papermill": {
     "duration": 0.587286,
     "end_time": "2022-12-07T00:32:31.124344",
     "exception": false,
     "start_time": "2022-12-07T00:32:30.537058",
     "status": "completed"
    },
    "tags": []
   },
   "outputs": [
    {
     "data": {
      "application/javascript": [
       "parent.postMessage({\"jupyterEvent\": \"custom.exercise_interaction\", \"data\": {\"outcomeType\": 1, \"valueTowardsCompletion\": 0.3333333333333333, \"interactionType\": 1, \"questionType\": 2, \"questionId\": \"6.1_PlotColorReg\", \"learnToolsVersion\": \"0.3.4\", \"failureMessage\": \"\", \"exceptionClass\": \"\", \"trace\": \"\"}}, \"*\")"
      ],
      "text/plain": [
       "<IPython.core.display.Javascript object>"
      ]
     },
     "metadata": {},
     "output_type": "display_data"
    },
    {
     "data": {
      "text/markdown": [
       "<span style=\"color:#33cc33\">Correct</span>"
      ],
      "text/plain": [
       "Correct"
      ]
     },
     "metadata": {},
     "output_type": "display_data"
    },
    {
     "data": {
      "image/png": "[encoded data removed]",
      "text/plain": [
       "<Figure size 416.375x360 with 1 Axes>"
      ]
     },
     "metadata": {
      "needs_background": "light"
     },
     "output_type": "display_data"
    }
   ],
   "source": [
    "# Color-coded scatter plot w/ regression lines\n",
    "sns.lmplot(x='pricepercent', y='winpercent',hue='chocolate', data=candy_data)\n",
    "\n",
    "# Check your answer\n",
    "step_6.a.check()"
   ]
  },
  {
   "cell_type": "code",
   "execution_count": 19,
   "id": "edcb07dd",
   "metadata": {
    "execution": {
     "iopub.execute_input": "2022-12-07T00:32:31.151754Z",
     "iopub.status.busy": "2022-12-07T00:32:31.151343Z",
     "iopub.status.idle": "2022-12-07T00:32:31.155977Z",
     "shell.execute_reply": "2022-12-07T00:32:31.154647Z"
    },
    "papermill": {
     "duration": 0.02204,
     "end_time": "2022-12-07T00:32:31.159082",
     "exception": false,
     "start_time": "2022-12-07T00:32:31.137042",
     "status": "completed"
    },
    "tags": []
   },
   "outputs": [],
   "source": [
    "# Lines below will give you a hint or solution code\n",
    "#step_6.a.hint()\n",
    "#step_6.a.solution_plot()"
   ]
  },
  {
   "cell_type": "markdown",
   "id": "e695d478",
   "metadata": {
    "papermill": {
     "duration": 0.012792,
     "end_time": "2022-12-07T00:32:31.185073",
     "exception": false,
     "start_time": "2022-12-07T00:32:31.172281",
     "status": "completed"
    },
    "tags": []
   },
   "source": [
    "#### Part B\n",
    "\n",
    "Using the regression lines, what conclusions can you draw about the effects of chocolate and price on candy popularity?"
   ]
  },
  {
   "cell_type": "code",
   "execution_count": 20,
   "id": "8de7b514",
   "metadata": {
    "execution": {
     "iopub.execute_input": "2022-12-07T00:32:31.212326Z",
     "iopub.status.busy": "2022-12-07T00:32:31.211875Z",
     "iopub.status.idle": "2022-12-07T00:32:31.216234Z",
     "shell.execute_reply": "2022-12-07T00:32:31.215231Z"
    },
    "papermill": {
     "duration": 0.020687,
     "end_time": "2022-12-07T00:32:31.218397",
     "exception": false,
     "start_time": "2022-12-07T00:32:31.197710",
     "status": "completed"
    },
    "tags": []
   },
   "outputs": [],
   "source": [
    "# Surveyors enjoy cheaper candies, except chocolate candies. The most expensive candies are the most liked.\n",
    "\n",
    "#step_6.b.hint()"
   ]
  },
  {
   "cell_type": "code",
   "execution_count": 21,
   "id": "e4079791",
   "metadata": {
    "execution": {
     "iopub.execute_input": "2022-12-07T00:32:31.245404Z",
     "iopub.status.busy": "2022-12-07T00:32:31.244990Z",
     "iopub.status.idle": "2022-12-07T00:32:31.254643Z",
     "shell.execute_reply": "2022-12-07T00:32:31.253577Z"
    },
    "papermill": {
     "duration": 0.02604,
     "end_time": "2022-12-07T00:32:31.257182",
     "exception": false,
     "start_time": "2022-12-07T00:32:31.231142",
     "status": "completed"
    },
    "tags": []
   },
   "outputs": [
    {
     "data": {
      "application/javascript": [
       "parent.postMessage({\"jupyterEvent\": \"custom.exercise_interaction\", \"data\": {\"interactionType\": 3, \"questionType\": 4, \"questionId\": \"6.2_ThinkColorReg\", \"learnToolsVersion\": \"0.3.4\", \"valueTowardsCompletion\": 0.0, \"failureMessage\": \"\", \"exceptionClass\": \"\", \"trace\": \"\", \"outcomeType\": 4}}, \"*\")"
      ],
      "text/plain": [
       "<IPython.core.display.Javascript object>"
      ]
     },
     "metadata": {},
     "output_type": "display_data"
    },
    {
     "data": {
      "text/markdown": [
       "<span style=\"color:#33cc99\">Solution:</span> We'll begin with the regression line for chocolate candies. Since this line has a slightly positive slope, we can say that more expensive chocolate candies tend to be more popular (than relatively cheaper chocolate candies).  Likewise, since the regression line for candies without chocolate has a negative slope, we can say that if candies don't contain chocolate, they tend to be more popular when they are cheaper.  One important note, however, is that the dataset is quite small -- so we shouldn't invest too much trust in these patterns!  To inspire more confidence in the results, we should add more candies to the dataset."
      ],
      "text/plain": [
       "Solution: We'll begin with the regression line for chocolate candies. Since this line has a slightly positive slope, we can say that more expensive chocolate candies tend to be more popular (than relatively cheaper chocolate candies).  Likewise, since the regression line for candies without chocolate has a negative slope, we can say that if candies don't contain chocolate, they tend to be more popular when they are cheaper.  One important note, however, is that the dataset is quite small -- so we shouldn't invest too much trust in these patterns!  To inspire more confidence in the results, we should add more candies to the dataset."
      ]
     },
     "metadata": {},
     "output_type": "display_data"
    }
   ],
   "source": [
    "# Check your answer (Run this code cell to receive credit!)\n",
    "step_6.b.solution()"
   ]
  },
  {
   "cell_type": "markdown",
   "id": "b5f6d355",
   "metadata": {
    "papermill": {
     "duration": 0.01239,
     "end_time": "2022-12-07T00:32:31.282578",
     "exception": false,
     "start_time": "2022-12-07T00:32:31.270188",
     "status": "completed"
    },
    "tags": []
   },
   "source": [
    "## Step 7: Everybody loves chocolate.\n",
    "\n",
    "#### Part A\n",
    "\n",
    "Create a categorical scatter plot to highlight the relationship between `'chocolate'` and `'winpercent'`.  Put `'chocolate'` on the (horizontal) x-axis, and `'winpercent'` on the (vertical) y-axis."
   ]
  },
  {
   "cell_type": "code",
   "execution_count": 22,
   "id": "2f4520ca",
   "metadata": {
    "execution": {
     "iopub.execute_input": "2022-12-07T00:32:31.310694Z",
     "iopub.status.busy": "2022-12-07T00:32:31.309613Z",
     "iopub.status.idle": "2022-12-07T00:32:31.523837Z",
     "shell.execute_reply": "2022-12-07T00:32:31.522875Z"
    },
    "papermill": {
     "duration": 0.230718,
     "end_time": "2022-12-07T00:32:31.526256",
     "exception": false,
     "start_time": "2022-12-07T00:32:31.295538",
     "status": "completed"
    },
    "tags": []
   },
   "outputs": [
    {
     "data": {
      "application/javascript": [
       "parent.postMessage({\"jupyterEvent\": \"custom.exercise_interaction\", \"data\": {\"outcomeType\": 1, \"valueTowardsCompletion\": 0.3333333333333333, \"interactionType\": 1, \"questionType\": 2, \"questionId\": \"7.1_PlotSwarm\", \"learnToolsVersion\": \"0.3.4\", \"failureMessage\": \"\", \"exceptionClass\": \"\", \"trace\": \"\"}}, \"*\")"
      ],
      "text/plain": [
       "<IPython.core.display.Javascript object>"
      ]
     },
     "metadata": {},
     "output_type": "display_data"
    },
    {
     "data": {
      "text/markdown": [
       "<span style=\"color:#33cc33\">Correct</span>"
      ],
      "text/plain": [
       "Correct"
      ]
     },
     "metadata": {},
     "output_type": "display_data"
    },
    {
     "data": {
      "image/png": "[encoded data removed]",
      "text/plain": [
       "<Figure size 432x288 with 1 Axes>"
      ]
     },
     "metadata": {
      "needs_background": "light"
     },
     "output_type": "display_data"
    }
   ],
   "source": [
    "# Scatter plot showing the relationship between 'chocolate' and 'winpercent'\n",
    "sns.swarmplot(x='chocolate', y='winpercent', data=candy_data)\n",
    "\n",
    "# Check your answer\n",
    "step_7.a.check()"
   ]
  },
  {
   "cell_type": "code",
   "execution_count": 23,
   "id": "63adbfae",
   "metadata": {
    "execution": {
     "iopub.execute_input": "2022-12-07T00:32:31.555121Z",
     "iopub.status.busy": "2022-12-07T00:32:31.554647Z",
     "iopub.status.idle": "2022-12-07T00:32:31.559545Z",
     "shell.execute_reply": "2022-12-07T00:32:31.558355Z"
    },
    "papermill": {
     "duration": 0.022207,
     "end_time": "2022-12-07T00:32:31.561920",
     "exception": false,
     "start_time": "2022-12-07T00:32:31.539713",
     "status": "completed"
    },
    "tags": []
   },
   "outputs": [],
   "source": [
    "# Lines below will give you a hint or solution code\n",
    "#step_7.a.hint()\n",
    "# step_7.a.solution_plot()"
   ]
  },
  {
   "cell_type": "markdown",
   "id": "0b60cfe7",
   "metadata": {
    "papermill": {
     "duration": 0.012984,
     "end_time": "2022-12-07T00:32:31.588369",
     "exception": false,
     "start_time": "2022-12-07T00:32:31.575385",
     "status": "completed"
    },
    "tags": []
   },
   "source": [
    "#### Part B\n",
    "\n",
    "You decide to dedicate a section of your report to the fact that chocolate candies tend to be more popular than candies without chocolate.  Which plot is more appropriate to tell this story: the plot from **Step 6**, or the plot from **Step 7**?"
   ]
  },
  {
   "cell_type": "code",
   "execution_count": 24,
   "id": "23e44cad",
   "metadata": {
    "execution": {
     "iopub.execute_input": "2022-12-07T00:32:31.617557Z",
     "iopub.status.busy": "2022-12-07T00:32:31.616437Z",
     "iopub.status.idle": "2022-12-07T00:32:31.621079Z",
     "shell.execute_reply": "2022-12-07T00:32:31.620193Z"
    },
    "papermill": {
     "duration": 0.021798,
     "end_time": "2022-12-07T00:32:31.623334",
     "exception": false,
     "start_time": "2022-12-07T00:32:31.601536",
     "status": "completed"
    },
    "tags": []
   },
   "outputs": [],
   "source": [
    "# Step 7\n",
    "\n",
    "#step_7.b.hint()"
   ]
  },
  {
   "cell_type": "code",
   "execution_count": 25,
   "id": "63279072",
   "metadata": {
    "execution": {
     "iopub.execute_input": "2022-12-07T00:32:31.653148Z",
     "iopub.status.busy": "2022-12-07T00:32:31.652295Z",
     "iopub.status.idle": "2022-12-07T00:32:31.661424Z",
     "shell.execute_reply": "2022-12-07T00:32:31.659971Z"
    },
    "papermill": {
     "duration": 0.026674,
     "end_time": "2022-12-07T00:32:31.663959",
     "exception": false,
     "start_time": "2022-12-07T00:32:31.637285",
     "status": "completed"
    },
    "tags": []
   },
   "outputs": [
    {
     "data": {
      "application/javascript": [
       "parent.postMessage({\"jupyterEvent\": \"custom.exercise_interaction\", \"data\": {\"interactionType\": 3, \"questionType\": 4, \"questionId\": \"7.2_ThinkSwarm\", \"learnToolsVersion\": \"0.3.4\", \"valueTowardsCompletion\": 0.0, \"failureMessage\": \"\", \"exceptionClass\": \"\", \"trace\": \"\", \"outcomeType\": 4}}, \"*\")"
      ],
      "text/plain": [
       "<IPython.core.display.Javascript object>"
      ]
     },
     "metadata": {},
     "output_type": "display_data"
    },
    {
     "data": {
      "text/markdown": [
       "<span style=\"color:#33cc99\">Solution:</span> In this case, the categorical scatter plot from **Step 7** is the more appropriate plot. While both plots tell the desired story, the plot from **Step 6** conveys far more information that could distract from the main point."
      ],
      "text/plain": [
       "Solution: In this case, the categorical scatter plot from **Step 7** is the more appropriate plot. While both plots tell the desired story, the plot from **Step 6** conveys far more information that could distract from the main point."
      ]
     },
     "metadata": {},
     "output_type": "display_data"
    }
   ],
   "source": [
    "# Check your answer (Run this code cell to receive credit!)\n",
    "step_7.b.solution()"
   ]
  },
  {
   "cell_type": "markdown",
   "id": "69a5c82d",
   "metadata": {
    "papermill": {
     "duration": 0.013296,
     "end_time": "2022-12-07T00:32:31.691572",
     "exception": false,
     "start_time": "2022-12-07T00:32:31.678276",
     "status": "completed"
    },
    "tags": []
   },
   "source": [
    "## Keep going\n",
    "\n",
    "Explore **[histograms and density plots](https://www.kaggle.com/alexisbcook/distributions)**."
   ]
  },
  {
   "cell_type": "markdown",
   "id": "9bdef458",
   "metadata": {
    "papermill": {
     "duration": 0.013384,
     "end_time": "2022-12-07T00:32:31.718711",
     "exception": false,
     "start_time": "2022-12-07T00:32:31.705327",
     "status": "completed"
    },
    "tags": []
   },
   "source": [
    "---\n",
    "\n",
    "\n",
    "\n",
    "\n",
    "*Have questions or comments? Visit the [course discussion forum](https://www.kaggle.com/learn/data-visualization/discussion) to chat with other learners.*"
   ]
  }
 ],
 "metadata": {
  "kernelspec": {
   "display_name": "Python 3",
   "language": "python",
   "name": "python3"
  },
  "language_info": {
   "codemirror_mode": {
    "name": "ipython",
    "version": 3
   },
   "file_extension": ".py",
   "mimetype": "text/x-python",
   "name": "python",
   "nbconvert_exporter": "python",
   "pygments_lexer": "ipython3",
   "version": "3.7.12"
  },
  "papermill": {
   "default_parameters": {},
   "duration": 13.636484,
   "end_time": "2022-12-07T00:32:32.455510",
   "environment_variables": {},
   "exception": null,
   "input_path": "__notebook__.ipynb",
   "output_path": "__notebook__.ipynb",
   "parameters": {},
   "start_time": "2022-12-07T00:32:18.819026",
   "version": "2.3.4"
  }
 },
 "nbformat": 4,
 "nbformat_minor": 5
}
