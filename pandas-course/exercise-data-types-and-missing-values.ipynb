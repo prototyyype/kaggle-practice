{
 "cells": [
  {
   "cell_type": "markdown",
   "id": "521bef45",
   "metadata": {
    "papermill": {
     "duration": 0.005622,
     "end_time": "2022-11-27T19:28:57.484116",
     "exception": false,
     "start_time": "2022-11-27T19:28:57.478494",
     "status": "completed"
    },
    "tags": []
   },
   "source": [
    "**This notebook is an exercise in the [Pandas](https://www.kaggle.com/learn/pandas) course.  You can reference the tutorial at [this link](https://www.kaggle.com/residentmario/data-types-and-missing-values).**\n",
    "\n",
    "---\n"
   ]
  },
  {
   "cell_type": "markdown",
   "id": "ccbb1601",
   "metadata": {
    "papermill": {
     "duration": 0.004094,
     "end_time": "2022-11-27T19:28:57.492788",
     "exception": false,
     "start_time": "2022-11-27T19:28:57.488694",
     "status": "completed"
    },
    "tags": []
   },
   "source": [
    "# Introduction\n",
    "\n",
    "Run the following cell to load your data and some utility functions."
   ]
  },
  {
   "cell_type": "code",
   "execution_count": 1,
   "id": "3a34ca4d",
   "metadata": {
    "execution": {
     "iopub.execute_input": "2022-11-27T19:28:57.504242Z",
     "iopub.status.busy": "2022-11-27T19:28:57.503372Z",
     "iopub.status.idle": "2022-11-27T19:29:00.754460Z",
     "shell.execute_reply": "2022-11-27T19:29:00.752602Z"
    },
    "papermill": {
     "duration": 3.260941,
     "end_time": "2022-11-27T19:29:00.758095",
     "exception": false,
     "start_time": "2022-11-27T19:28:57.497154",
     "status": "completed"
    },
    "tags": []
   },
   "outputs": [
    {
     "name": "stdout",
     "output_type": "stream",
     "text": [
      "Setup complete.\n"
     ]
    }
   ],
   "source": [
    "import pandas as pd\n",
    "\n",
    "reviews = pd.read_csv(\"../input/wine-reviews/winemag-data-130k-v2.csv\", index_col=0)\n",
    "\n",
    "from learntools.core import binder; binder.bind(globals())\n",
    "from learntools.pandas.data_types_and_missing_data import *\n",
    "print(\"Setup complete.\")"
   ]
  },
  {
   "cell_type": "markdown",
   "id": "9c695bfd",
   "metadata": {
    "papermill": {
     "duration": 0.004584,
     "end_time": "2022-11-27T19:29:00.767506",
     "exception": false,
     "start_time": "2022-11-27T19:29:00.762922",
     "status": "completed"
    },
    "tags": []
   },
   "source": [
    "# Exercises"
   ]
  },
  {
   "cell_type": "markdown",
   "id": "9a7db2f4",
   "metadata": {
    "papermill": {
     "duration": 0.004507,
     "end_time": "2022-11-27T19:29:00.776863",
     "exception": false,
     "start_time": "2022-11-27T19:29:00.772356",
     "status": "completed"
    },
    "tags": []
   },
   "source": [
    "## 1. \n",
    "What is the data type of the `points` column in the dataset?"
   ]
  },
  {
   "cell_type": "code",
   "execution_count": 2,
   "id": "02d4aad3",
   "metadata": {
    "execution": {
     "iopub.execute_input": "2022-11-27T19:29:00.788440Z",
     "iopub.status.busy": "2022-11-27T19:29:00.787980Z",
     "iopub.status.idle": "2022-11-27T19:29:00.798797Z",
     "shell.execute_reply": "2022-11-27T19:29:00.798008Z"
    },
    "papermill": {
     "duration": 0.019243,
     "end_time": "2022-11-27T19:29:00.801028",
     "exception": false,
     "start_time": "2022-11-27T19:29:00.781785",
     "status": "completed"
    },
    "tags": []
   },
   "outputs": [
    {
     "data": {
      "application/javascript": [
       "parent.postMessage({\"jupyterEvent\": \"custom.exercise_interaction\", \"data\": {\"outcomeType\": 1, \"valueTowardsCompletion\": 0.25, \"interactionType\": 1, \"questionType\": 1, \"questionId\": \"1_PointsDtype\", \"learnToolsVersion\": \"0.3.4\", \"failureMessage\": \"\", \"exceptionClass\": \"\", \"trace\": \"\"}}, \"*\")"
      ],
      "text/plain": [
       "<IPython.core.display.Javascript object>"
      ]
     },
     "metadata": {},
     "output_type": "display_data"
    },
    {
     "data": {
      "text/markdown": [
       "<span style=\"color:#33cc33\">Correct</span>"
      ],
      "text/plain": [
       "Correct"
      ]
     },
     "metadata": {},
     "output_type": "display_data"
    }
   ],
   "source": [
    "# Your code here\n",
    "dtype = reviews.points.dtype\n",
    "\n",
    "# Check your answer\n",
    "q1.check()"
   ]
  },
  {
   "cell_type": "code",
   "execution_count": 3,
   "id": "29994cbb",
   "metadata": {
    "execution": {
     "iopub.execute_input": "2022-11-27T19:29:00.813266Z",
     "iopub.status.busy": "2022-11-27T19:29:00.812520Z",
     "iopub.status.idle": "2022-11-27T19:29:00.816483Z",
     "shell.execute_reply": "2022-11-27T19:29:00.815507Z"
    },
    "papermill": {
     "duration": 0.012626,
     "end_time": "2022-11-27T19:29:00.818785",
     "exception": false,
     "start_time": "2022-11-27T19:29:00.806159",
     "status": "completed"
    },
    "tags": []
   },
   "outputs": [],
   "source": [
    "#q1.hint()\n",
    "#q1.solution()"
   ]
  },
  {
   "cell_type": "markdown",
   "id": "d774c7e2",
   "metadata": {
    "papermill": {
     "duration": 0.004528,
     "end_time": "2022-11-27T19:29:00.828188",
     "exception": false,
     "start_time": "2022-11-27T19:29:00.823660",
     "status": "completed"
    },
    "tags": []
   },
   "source": [
    "## 2. \n",
    "Create a Series from entries in the `points` column, but convert the entries to strings. Hint: strings are `str` in native Python."
   ]
  },
  {
   "cell_type": "code",
   "execution_count": 4,
   "id": "fec1656e",
   "metadata": {
    "execution": {
     "iopub.execute_input": "2022-11-27T19:29:00.840267Z",
     "iopub.status.busy": "2022-11-27T19:29:00.839552Z",
     "iopub.status.idle": "2022-11-27T19:29:00.923304Z",
     "shell.execute_reply": "2022-11-27T19:29:00.922320Z"
    },
    "papermill": {
     "duration": 0.092672,
     "end_time": "2022-11-27T19:29:00.925705",
     "exception": false,
     "start_time": "2022-11-27T19:29:00.833033",
     "status": "completed"
    },
    "tags": []
   },
   "outputs": [
    {
     "data": {
      "application/javascript": [
       "parent.postMessage({\"jupyterEvent\": \"custom.exercise_interaction\", \"data\": {\"outcomeType\": 1, \"valueTowardsCompletion\": 0.25, \"interactionType\": 1, \"questionType\": 1, \"questionId\": \"2_StrPoints\", \"learnToolsVersion\": \"0.3.4\", \"failureMessage\": \"\", \"exceptionClass\": \"\", \"trace\": \"\"}}, \"*\")"
      ],
      "text/plain": [
       "<IPython.core.display.Javascript object>"
      ]
     },
     "metadata": {},
     "output_type": "display_data"
    },
    {
     "data": {
      "text/markdown": [
       "<span style=\"color:#33cc33\">Correct</span>"
      ],
      "text/plain": [
       "Correct"
      ]
     },
     "metadata": {},
     "output_type": "display_data"
    }
   ],
   "source": [
    "point_strings = reviews.points.astype('str')\n",
    "\n",
    "# Check your answer\n",
    "q2.check()"
   ]
  },
  {
   "cell_type": "code",
   "execution_count": 5,
   "id": "53ed1994",
   "metadata": {
    "execution": {
     "iopub.execute_input": "2022-11-27T19:29:00.938161Z",
     "iopub.status.busy": "2022-11-27T19:29:00.937670Z",
     "iopub.status.idle": "2022-11-27T19:29:00.943328Z",
     "shell.execute_reply": "2022-11-27T19:29:00.941652Z"
    },
    "papermill": {
     "duration": 0.015766,
     "end_time": "2022-11-27T19:29:00.946552",
     "exception": false,
     "start_time": "2022-11-27T19:29:00.930786",
     "status": "completed"
    },
    "tags": []
   },
   "outputs": [],
   "source": [
    "#q2.hint()\n",
    "#q2.solution()"
   ]
  },
  {
   "cell_type": "markdown",
   "id": "5746737f",
   "metadata": {
    "papermill": {
     "duration": 0.004711,
     "end_time": "2022-11-27T19:29:00.956733",
     "exception": false,
     "start_time": "2022-11-27T19:29:00.952022",
     "status": "completed"
    },
    "tags": []
   },
   "source": [
    "## 3.\n",
    "Sometimes the price column is null. How many reviews in the dataset are missing a price?"
   ]
  },
  {
   "cell_type": "code",
   "execution_count": 6,
   "id": "74535732",
   "metadata": {
    "execution": {
     "iopub.execute_input": "2022-11-27T19:29:00.969884Z",
     "iopub.status.busy": "2022-11-27T19:29:00.969443Z",
     "iopub.status.idle": "2022-11-27T19:29:00.981126Z",
     "shell.execute_reply": "2022-11-27T19:29:00.979958Z"
    },
    "papermill": {
     "duration": 0.021559,
     "end_time": "2022-11-27T19:29:00.984082",
     "exception": false,
     "start_time": "2022-11-27T19:29:00.962523",
     "status": "completed"
    },
    "tags": []
   },
   "outputs": [
    {
     "data": {
      "application/javascript": [
       "parent.postMessage({\"jupyterEvent\": \"custom.exercise_interaction\", \"data\": {\"outcomeType\": 1, \"valueTowardsCompletion\": 0.25, \"interactionType\": 1, \"questionType\": 1, \"questionId\": \"3_CountMissingPrices\", \"learnToolsVersion\": \"0.3.4\", \"failureMessage\": \"\", \"exceptionClass\": \"\", \"trace\": \"\"}}, \"*\")"
      ],
      "text/plain": [
       "<IPython.core.display.Javascript object>"
      ]
     },
     "metadata": {},
     "output_type": "display_data"
    },
    {
     "data": {
      "text/markdown": [
       "<span style=\"color:#33cc33\">Correct</span>"
      ],
      "text/plain": [
       "Correct"
      ]
     },
     "metadata": {},
     "output_type": "display_data"
    }
   ],
   "source": [
    "# n_missing_prices = pd.isnull(reviews.points).size\n",
    "# the above code doesnt work because \n",
    "n_missing_prices = reviews.price.isnull().sum()\n",
    "\n",
    "# Check your answer\n",
    "q3.check()"
   ]
  },
  {
   "cell_type": "code",
   "execution_count": 7,
   "id": "c1f2fa9d",
   "metadata": {
    "execution": {
     "iopub.execute_input": "2022-11-27T19:29:00.997102Z",
     "iopub.status.busy": "2022-11-27T19:29:00.996587Z",
     "iopub.status.idle": "2022-11-27T19:29:01.010295Z",
     "shell.execute_reply": "2022-11-27T19:29:01.009185Z"
    },
    "papermill": {
     "duration": 0.022852,
     "end_time": "2022-11-27T19:29:01.012744",
     "exception": false,
     "start_time": "2022-11-27T19:29:00.989892",
     "status": "completed"
    },
    "tags": []
   },
   "outputs": [
    {
     "data": {
      "application/javascript": [
       "parent.postMessage({\"jupyterEvent\": \"custom.exercise_interaction\", \"data\": {\"interactionType\": 2, \"questionType\": 1, \"questionId\": \"3_CountMissingPrices\", \"learnToolsVersion\": \"0.3.4\", \"valueTowardsCompletion\": 0.0, \"failureMessage\": \"\", \"exceptionClass\": \"\", \"trace\": \"\", \"outcomeType\": 4}}, \"*\")"
      ],
      "text/plain": [
       "<IPython.core.display.Javascript object>"
      ]
     },
     "metadata": {},
     "output_type": "display_data"
    },
    {
     "data": {
      "text/markdown": [
       "<span style=\"color:#3366cc\">Hint:</span> Use `pd.isnull()`."
      ],
      "text/plain": [
       "Hint: Use `pd.isnull()`."
      ]
     },
     "metadata": {},
     "output_type": "display_data"
    },
    {
     "data": {
      "application/javascript": [
       "parent.postMessage({\"jupyterEvent\": \"custom.exercise_interaction\", \"data\": {\"interactionType\": 3, \"questionType\": 1, \"questionId\": \"3_CountMissingPrices\", \"learnToolsVersion\": \"0.3.4\", \"valueTowardsCompletion\": 0.0, \"failureMessage\": \"\", \"exceptionClass\": \"\", \"trace\": \"\", \"outcomeType\": 4}}, \"*\")"
      ],
      "text/plain": [
       "<IPython.core.display.Javascript object>"
      ]
     },
     "metadata": {},
     "output_type": "display_data"
    },
    {
     "data": {
      "text/markdown": [
       "<span style=\"color:#33cc99\">Solution:</span> \n",
       "```python\n",
       "missing_price_reviews = reviews[reviews.price.isnull()]\n",
       "n_missing_prices = len(missing_price_reviews)\n",
       "# Cute alternative solution: if we sum a boolean series, True is treated as 1 and False as 0\n",
       "n_missing_prices = reviews.price.isnull().sum()\n",
       "# or equivalently:\n",
       "n_missing_prices = pd.isnull(reviews.price).sum()\n",
       "\n",
       "```"
      ],
      "text/plain": [
       "Solution: \n",
       "```python\n",
       "missing_price_reviews = reviews[reviews.price.isnull()]\n",
       "n_missing_prices = len(missing_price_reviews)\n",
       "# Cute alternative solution: if we sum a boolean series, True is treated as 1 and False as 0\n",
       "n_missing_prices = reviews.price.isnull().sum()\n",
       "# or equivalently:\n",
       "n_missing_prices = pd.isnull(reviews.price).sum()\n",
       "\n",
       "```"
      ]
     },
     "metadata": {},
     "output_type": "display_data"
    }
   ],
   "source": [
    "q3.hint()\n",
    "q3.solution()"
   ]
  },
  {
   "cell_type": "markdown",
   "id": "72cb0848",
   "metadata": {
    "papermill": {
     "duration": 0.005994,
     "end_time": "2022-11-27T19:29:01.024837",
     "exception": false,
     "start_time": "2022-11-27T19:29:01.018843",
     "status": "completed"
    },
    "tags": []
   },
   "source": [
    "## 4.\n",
    "What are the most common wine-producing regions? Create a Series counting the number of times each value occurs in the `region_1` field. This field is often missing data, so replace missing values with `Unknown`. Sort in descending order.  Your output should look something like this:\n",
    "\n",
    "```\n",
    "Unknown                    21247\n",
    "Napa Valley                 4480\n",
    "                           ...  \n",
    "Bardolino Superiore            1\n",
    "Primitivo del Tarantino        1\n",
    "Name: region_1, Length: 1230, dtype: int64\n",
    "```"
   ]
  },
  {
   "cell_type": "code",
   "execution_count": 8,
   "id": "b2c04436",
   "metadata": {
    "execution": {
     "iopub.execute_input": "2022-11-27T19:29:01.041180Z",
     "iopub.status.busy": "2022-11-27T19:29:01.040194Z",
     "iopub.status.idle": "2022-11-27T19:29:01.086857Z",
     "shell.execute_reply": "2022-11-27T19:29:01.085406Z"
    },
    "papermill": {
     "duration": 0.057434,
     "end_time": "2022-11-27T19:29:01.089660",
     "exception": false,
     "start_time": "2022-11-27T19:29:01.032226",
     "status": "completed"
    },
    "tags": []
   },
   "outputs": [
    {
     "data": {
      "application/javascript": [
       "parent.postMessage({\"jupyterEvent\": \"custom.exercise_interaction\", \"data\": {\"outcomeType\": 1, \"valueTowardsCompletion\": 0.25, \"interactionType\": 1, \"questionType\": 2, \"questionId\": \"4_ReviewsPerRegion\", \"learnToolsVersion\": \"0.3.4\", \"failureMessage\": \"\", \"exceptionClass\": \"\", \"trace\": \"\"}}, \"*\")"
      ],
      "text/plain": [
       "<IPython.core.display.Javascript object>"
      ]
     },
     "metadata": {},
     "output_type": "display_data"
    },
    {
     "data": {
      "text/markdown": [
       "<span style=\"color:#33cc33\">Correct</span>"
      ],
      "text/plain": [
       "Correct"
      ]
     },
     "metadata": {},
     "output_type": "display_data"
    }
   ],
   "source": [
    "reviews_per_region = reviews.region_1.fillna('Unknown').value_counts()\n",
    "\n",
    "# Alternate Solution\n",
    "# reviews_per_region = reviews.region_1.fillna('Unknown').value_counts().sort_values(ascending=False)\n",
    "\n",
    "# Check your answer\n",
    "q4.check()"
   ]
  },
  {
   "cell_type": "code",
   "execution_count": 9,
   "id": "801f585c",
   "metadata": {
    "execution": {
     "iopub.execute_input": "2022-11-27T19:29:01.104990Z",
     "iopub.status.busy": "2022-11-27T19:29:01.104497Z",
     "iopub.status.idle": "2022-11-27T19:29:01.120494Z",
     "shell.execute_reply": "2022-11-27T19:29:01.119161Z"
    },
    "papermill": {
     "duration": 0.026654,
     "end_time": "2022-11-27T19:29:01.123140",
     "exception": false,
     "start_time": "2022-11-27T19:29:01.096486",
     "status": "completed"
    },
    "tags": []
   },
   "outputs": [
    {
     "data": {
      "application/javascript": [
       "parent.postMessage({\"jupyterEvent\": \"custom.exercise_interaction\", \"data\": {\"interactionType\": 2, \"questionType\": 2, \"questionId\": \"4_ReviewsPerRegion\", \"learnToolsVersion\": \"0.3.4\", \"valueTowardsCompletion\": 0.0, \"failureMessage\": \"\", \"exceptionClass\": \"\", \"trace\": \"\", \"outcomeType\": 4}}, \"*\")"
      ],
      "text/plain": [
       "<IPython.core.display.Javascript object>"
      ]
     },
     "metadata": {},
     "output_type": "display_data"
    },
    {
     "data": {
      "text/markdown": [
       "<span style=\"color:#3366cc\">Hint:</span> Use `fillna()`, `value_counts()`, and `sort_values()`."
      ],
      "text/plain": [
       "Hint: Use `fillna()`, `value_counts()`, and `sort_values()`."
      ]
     },
     "metadata": {},
     "output_type": "display_data"
    },
    {
     "data": {
      "application/javascript": [
       "parent.postMessage({\"jupyterEvent\": \"custom.exercise_interaction\", \"data\": {\"interactionType\": 3, \"questionType\": 2, \"questionId\": \"4_ReviewsPerRegion\", \"learnToolsVersion\": \"0.3.4\", \"valueTowardsCompletion\": 0.0, \"failureMessage\": \"\", \"exceptionClass\": \"\", \"trace\": \"\", \"outcomeType\": 4}}, \"*\")"
      ],
      "text/plain": [
       "<IPython.core.display.Javascript object>"
      ]
     },
     "metadata": {},
     "output_type": "display_data"
    },
    {
     "data": {
      "text/markdown": [
       "<span style=\"color:#33cc99\">Solution:</span> \n",
       "```python\n",
       "reviews_per_region = reviews.region_1.fillna('Unknown').value_counts().sort_values(ascending=False)\n",
       "```"
      ],
      "text/plain": [
       "Solution: \n",
       "```python\n",
       "reviews_per_region = reviews.region_1.fillna('Unknown').value_counts().sort_values(ascending=False)\n",
       "```"
      ]
     },
     "metadata": {},
     "output_type": "display_data"
    }
   ],
   "source": [
    "q4.hint()\n",
    "q4.solution()"
   ]
  },
  {
   "cell_type": "markdown",
   "id": "bc840a82",
   "metadata": {
    "papermill": {
     "duration": 0.006546,
     "end_time": "2022-11-27T19:29:01.136225",
     "exception": false,
     "start_time": "2022-11-27T19:29:01.129679",
     "status": "completed"
    },
    "tags": []
   },
   "source": [
    "# Keep going\n",
    "\n",
    "Move on to **[renaming and combining](https://www.kaggle.com/residentmario/renaming-and-combining)**."
   ]
  },
  {
   "cell_type": "markdown",
   "id": "27852a97",
   "metadata": {
    "papermill": {
     "duration": 0.006488,
     "end_time": "2022-11-27T19:29:01.149219",
     "exception": false,
     "start_time": "2022-11-27T19:29:01.142731",
     "status": "completed"
    },
    "tags": []
   },
   "source": [
    "---\n",
    "\n",
    "\n",
    "\n",
    "\n",
    "*Have questions or comments? Visit the [course discussion forum](https://www.kaggle.com/learn/pandas/discussion) to chat with other learners.*"
   ]
  }
 ],
 "metadata": {
  "kernelspec": {
   "display_name": "Python 3",
   "language": "python",
   "name": "python3"
  },
  "language_info": {
   "codemirror_mode": {
    "name": "ipython",
    "version": 3
   },
   "file_extension": ".py",
   "mimetype": "text/x-python",
   "name": "python",
   "nbconvert_exporter": "python",
   "pygments_lexer": "ipython3",
   "version": "3.7.12"
  },
  "papermill": {
   "default_parameters": {},
   "duration": 15.458812,
   "end_time": "2022-11-27T19:29:01.880080",
   "environment_variables": {},
   "exception": null,
   "input_path": "__notebook__.ipynb",
   "output_path": "__notebook__.ipynb",
   "parameters": {},
   "start_time": "2022-11-27T19:28:46.421268",
   "version": "2.3.4"
  }
 },
 "nbformat": 4,
 "nbformat_minor": 5
}
