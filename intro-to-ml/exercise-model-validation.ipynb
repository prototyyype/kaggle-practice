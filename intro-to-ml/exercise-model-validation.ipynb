{
 "cells": [
  {
   "cell_type": "markdown",
   "id": "9725bff3",
   "metadata": {
    "papermill": {
     "duration": 0.006066,
     "end_time": "2022-12-04T03:17:12.223380",
     "exception": false,
     "start_time": "2022-12-04T03:17:12.217314",
     "status": "completed"
    },
    "tags": []
   },
   "source": [
    "**This notebook is an exercise in the [Introduction to Machine Learning](https://www.kaggle.com/learn/intro-to-machine-learning) course.  You can reference the tutorial at [this link](https://www.kaggle.com/dansbecker/model-validation).**\n",
    "\n",
    "---\n"
   ]
  },
  {
   "cell_type": "markdown",
   "id": "c15da266",
   "metadata": {
    "papermill": {
     "duration": 0.004231,
     "end_time": "2022-12-04T03:17:12.232484",
     "exception": false,
     "start_time": "2022-12-04T03:17:12.228253",
     "status": "completed"
    },
    "tags": []
   },
   "source": [
    "## Recap\n",
    "You've built a model. In this exercise you will test how good your model is.\n",
    "\n",
    "Run the cell below to set up your coding environment where the previous exercise left off."
   ]
  },
  {
   "cell_type": "code",
   "execution_count": 1,
   "id": "c500b7c0",
   "metadata": {
    "execution": {
     "iopub.execute_input": "2022-12-04T03:17:12.243784Z",
     "iopub.status.busy": "2022-12-04T03:17:12.243019Z",
     "iopub.status.idle": "2022-12-04T03:17:13.615214Z",
     "shell.execute_reply": "2022-12-04T03:17:13.614364Z"
    },
    "papermill": {
     "duration": 1.381434,
     "end_time": "2022-12-04T03:17:13.618368",
     "exception": false,
     "start_time": "2022-12-04T03:17:12.236934",
     "status": "completed"
    },
    "tags": []
   },
   "outputs": [
    {
     "name": "stdout",
     "output_type": "stream",
     "text": [
      "First in-sample predictions: [208500. 181500. 223500. 140000. 250000.]\n",
      "Actual target values for those homes: [208500, 181500, 223500, 140000, 250000]\n",
      "Setup Complete\n"
     ]
    }
   ],
   "source": [
    "# Code you have previously used to load data\n",
    "import pandas as pd\n",
    "from sklearn.tree import DecisionTreeRegressor\n",
    "\n",
    "# Path of the file to read\n",
    "iowa_file_path = '../input/home-data-for-ml-course/train.csv'\n",
    "\n",
    "home_data = pd.read_csv(iowa_file_path)\n",
    "y = home_data.SalePrice\n",
    "feature_columns = ['LotArea', 'YearBuilt', '1stFlrSF', '2ndFlrSF', 'FullBath', 'BedroomAbvGr', 'TotRmsAbvGrd']\n",
    "X = home_data[feature_columns]\n",
    "\n",
    "# Specify Model\n",
    "iowa_model = DecisionTreeRegressor()\n",
    "# Fit Model\n",
    "iowa_model.fit(X, y)\n",
    "\n",
    "print(\"First in-sample predictions:\", iowa_model.predict(X.head()))\n",
    "print(\"Actual target values for those homes:\", y.head().tolist())\n",
    "\n",
    "# Set up code checking\n",
    "from learntools.core import binder\n",
    "binder.bind(globals())\n",
    "from learntools.machine_learning.ex4 import *\n",
    "print(\"Setup Complete\")"
   ]
  },
  {
   "cell_type": "markdown",
   "id": "f0d465db",
   "metadata": {
    "papermill": {
     "duration": 0.004438,
     "end_time": "2022-12-04T03:17:13.628226",
     "exception": false,
     "start_time": "2022-12-04T03:17:13.623788",
     "status": "completed"
    },
    "tags": []
   },
   "source": [
    "# Exercises\n",
    "\n",
    "## Step 1: Split Your Data\n",
    "Use the `train_test_split` function to split up your data.\n",
    "\n",
    "Give it the argument `random_state=1` so the `check` functions know what to expect when verifying your code.\n",
    "\n",
    "Recall, your features are loaded in the DataFrame **X** and your target is loaded in **y**.\n"
   ]
  },
  {
   "cell_type": "code",
   "execution_count": 2,
   "id": "a4bf93df",
   "metadata": {
    "execution": {
     "iopub.execute_input": "2022-12-04T03:17:13.639704Z",
     "iopub.status.busy": "2022-12-04T03:17:13.639006Z",
     "iopub.status.idle": "2022-12-04T03:17:13.652854Z",
     "shell.execute_reply": "2022-12-04T03:17:13.651655Z"
    },
    "papermill": {
     "duration": 0.022105,
     "end_time": "2022-12-04T03:17:13.655020",
     "exception": false,
     "start_time": "2022-12-04T03:17:13.632915",
     "status": "completed"
    },
    "tags": []
   },
   "outputs": [
    {
     "data": {
      "application/javascript": [
       "parent.postMessage({\"jupyterEvent\": \"custom.exercise_interaction\", \"data\": {\"outcomeType\": 1, \"valueTowardsCompletion\": 0.25, \"interactionType\": 1, \"questionType\": 2, \"questionId\": \"1_SplitData\", \"learnToolsVersion\": \"0.3.4\", \"failureMessage\": \"\", \"exceptionClass\": \"\", \"trace\": \"\"}}, \"*\")"
      ],
      "text/plain": [
       "<IPython.core.display.Javascript object>"
      ]
     },
     "metadata": {},
     "output_type": "display_data"
    },
    {
     "data": {
      "text/markdown": [
       "<span style=\"color:#33cc33\">Correct</span>"
      ],
      "text/plain": [
       "Correct"
      ]
     },
     "metadata": {},
     "output_type": "display_data"
    }
   ],
   "source": [
    "# Import the train_test_split function and uncomment\n",
    "from sklearn.model_selection import train_test_split\n",
    "\n",
    "# fill in and uncomment\n",
    "train_X, val_X, train_y, val_y = train_test_split(X, y, random_state=1)\n",
    "\n",
    "# Check your answer\n",
    "step_1.check()"
   ]
  },
  {
   "cell_type": "code",
   "execution_count": 3,
   "id": "36aecdc0",
   "metadata": {
    "execution": {
     "iopub.execute_input": "2022-12-04T03:17:13.666664Z",
     "iopub.status.busy": "2022-12-04T03:17:13.666268Z",
     "iopub.status.idle": "2022-12-04T03:17:13.670536Z",
     "shell.execute_reply": "2022-12-04T03:17:13.669384Z"
    },
    "papermill": {
     "duration": 0.012724,
     "end_time": "2022-12-04T03:17:13.672664",
     "exception": false,
     "start_time": "2022-12-04T03:17:13.659940",
     "status": "completed"
    },
    "tags": []
   },
   "outputs": [],
   "source": [
    "# The lines below will show you a hint or the solution.\n",
    "# step_1.hint() \n",
    "# step_1.solution()\n"
   ]
  },
  {
   "cell_type": "markdown",
   "id": "52b632fe",
   "metadata": {
    "papermill": {
     "duration": 0.004616,
     "end_time": "2022-12-04T03:17:13.682256",
     "exception": false,
     "start_time": "2022-12-04T03:17:13.677640",
     "status": "completed"
    },
    "tags": []
   },
   "source": [
    "## Step 2: Specify and Fit the Model\n",
    "\n",
    "Create a `DecisionTreeRegressor` model and fit it to the relevant data.\n",
    "Set `random_state` to 1 again when creating the model."
   ]
  },
  {
   "cell_type": "code",
   "execution_count": 4,
   "id": "e9daee74",
   "metadata": {
    "execution": {
     "iopub.execute_input": "2022-12-04T03:17:13.694388Z",
     "iopub.status.busy": "2022-12-04T03:17:13.693755Z",
     "iopub.status.idle": "2022-12-04T03:17:13.721925Z",
     "shell.execute_reply": "2022-12-04T03:17:13.720653Z"
    },
    "papermill": {
     "duration": 0.03706,
     "end_time": "2022-12-04T03:17:13.724308",
     "exception": false,
     "start_time": "2022-12-04T03:17:13.687248",
     "status": "completed"
    },
    "tags": []
   },
   "outputs": [
    {
     "name": "stdout",
     "output_type": "stream",
     "text": [
      "[186500. 184000. 130000.  92000. 164500. 220000. 335000. 144152. 215000.\n",
      " 262000.]\n",
      "[186500. 184000. 130000.  92000. 164500. 220000. 335000. 144152. 215000.\n",
      " 262000.]\n"
     ]
    },
    {
     "data": {
      "application/javascript": [
       "parent.postMessage({\"jupyterEvent\": \"custom.exercise_interaction\", \"data\": {\"outcomeType\": 1, \"valueTowardsCompletion\": 0.25, \"interactionType\": 1, \"questionType\": 2, \"questionId\": \"2_FitModelWithTrain\", \"learnToolsVersion\": \"0.3.4\", \"failureMessage\": \"\", \"exceptionClass\": \"\", \"trace\": \"\"}}, \"*\")"
      ],
      "text/plain": [
       "<IPython.core.display.Javascript object>"
      ]
     },
     "metadata": {},
     "output_type": "display_data"
    },
    {
     "data": {
      "text/markdown": [
       "<span style=\"color:#33cc33\">Correct</span>"
      ],
      "text/plain": [
       "Correct"
      ]
     },
     "metadata": {},
     "output_type": "display_data"
    }
   ],
   "source": [
    "# You imported DecisionTreeRegressor in your last exercise\n",
    "# and that code has been copied to the setup code above. So, no need to\n",
    "# import it again\n",
    "\n",
    "# Specify the model\n",
    "iowa_model = DecisionTreeRegressor(random_state=1)\n",
    "\n",
    "# Fit iowa_model with the training data.\n",
    "iowa_model.fit(train_X, train_y)\n",
    "\n",
    "# Check your answer\n",
    "step_2.check()"
   ]
  },
  {
   "cell_type": "code",
   "execution_count": 5,
   "id": "e16cb358",
   "metadata": {
    "execution": {
     "iopub.execute_input": "2022-12-04T03:17:13.736575Z",
     "iopub.status.busy": "2022-12-04T03:17:13.736182Z",
     "iopub.status.idle": "2022-12-04T03:17:13.745084Z",
     "shell.execute_reply": "2022-12-04T03:17:13.744057Z"
    },
    "papermill": {
     "duration": 0.017712,
     "end_time": "2022-12-04T03:17:13.747225",
     "exception": false,
     "start_time": "2022-12-04T03:17:13.729513",
     "status": "completed"
    },
    "tags": []
   },
   "outputs": [
    {
     "data": {
      "application/javascript": [
       "parent.postMessage({\"jupyterEvent\": \"custom.exercise_interaction\", \"data\": {\"interactionType\": 2, \"questionType\": 2, \"questionId\": \"2_FitModelWithTrain\", \"learnToolsVersion\": \"0.3.4\", \"valueTowardsCompletion\": 0.0, \"failureMessage\": \"\", \"exceptionClass\": \"\", \"trace\": \"\", \"outcomeType\": 4}}, \"*\")"
      ],
      "text/plain": [
       "<IPython.core.display.Javascript object>"
      ]
     },
     "metadata": {},
     "output_type": "display_data"
    },
    {
     "data": {
      "text/markdown": [
       "<span style=\"color:#3366cc\">Hint:</span> Remember, you fit with training data. You will test with validation data soon"
      ],
      "text/plain": [
       "Hint: Remember, you fit with training data. You will test with validation data soon"
      ]
     },
     "metadata": {},
     "output_type": "display_data"
    }
   ],
   "source": [
    "step_2.hint()\n",
    "# step_2.solution()"
   ]
  },
  {
   "cell_type": "markdown",
   "id": "258a3343",
   "metadata": {
    "papermill": {
     "duration": 0.005438,
     "end_time": "2022-12-04T03:17:13.758923",
     "exception": false,
     "start_time": "2022-12-04T03:17:13.753485",
     "status": "completed"
    },
    "tags": []
   },
   "source": [
    "## Step 3: Make Predictions with Validation data\n"
   ]
  },
  {
   "cell_type": "code",
   "execution_count": 6,
   "id": "01aa534c",
   "metadata": {
    "execution": {
     "iopub.execute_input": "2022-12-04T03:17:13.774433Z",
     "iopub.status.busy": "2022-12-04T03:17:13.773252Z",
     "iopub.status.idle": "2022-12-04T03:17:13.786248Z",
     "shell.execute_reply": "2022-12-04T03:17:13.785323Z"
    },
    "papermill": {
     "duration": 0.022051,
     "end_time": "2022-12-04T03:17:13.788389",
     "exception": false,
     "start_time": "2022-12-04T03:17:13.766338",
     "status": "completed"
    },
    "tags": []
   },
   "outputs": [
    {
     "data": {
      "application/javascript": [
       "parent.postMessage({\"jupyterEvent\": \"custom.exercise_interaction\", \"data\": {\"outcomeType\": 1, \"valueTowardsCompletion\": 0.25, \"interactionType\": 1, \"questionType\": 2, \"questionId\": \"3_ValPreds\", \"learnToolsVersion\": \"0.3.4\", \"failureMessage\": \"\", \"exceptionClass\": \"\", \"trace\": \"\"}}, \"*\")"
      ],
      "text/plain": [
       "<IPython.core.display.Javascript object>"
      ]
     },
     "metadata": {},
     "output_type": "display_data"
    },
    {
     "data": {
      "text/markdown": [
       "<span style=\"color:#33cc33\">Correct</span>"
      ],
      "text/plain": [
       "Correct"
      ]
     },
     "metadata": {},
     "output_type": "display_data"
    }
   ],
   "source": [
    "# Predict with all validation observations\n",
    "val_predictions = iowa_model.predict(val_X)\n",
    "\n",
    "# Check your answer\n",
    "step_3.check()"
   ]
  },
  {
   "cell_type": "code",
   "execution_count": 7,
   "id": "c40ff50c",
   "metadata": {
    "execution": {
     "iopub.execute_input": "2022-12-04T03:17:13.801342Z",
     "iopub.status.busy": "2022-12-04T03:17:13.800688Z",
     "iopub.status.idle": "2022-12-04T03:17:13.805431Z",
     "shell.execute_reply": "2022-12-04T03:17:13.804406Z"
    },
    "papermill": {
     "duration": 0.013758,
     "end_time": "2022-12-04T03:17:13.807772",
     "exception": false,
     "start_time": "2022-12-04T03:17:13.794014",
     "status": "completed"
    },
    "tags": []
   },
   "outputs": [],
   "source": [
    "# step_3.hint()\n",
    "# step_3.solution()"
   ]
  },
  {
   "cell_type": "markdown",
   "id": "2c9d41d8",
   "metadata": {
    "papermill": {
     "duration": 0.005545,
     "end_time": "2022-12-04T03:17:13.818876",
     "exception": false,
     "start_time": "2022-12-04T03:17:13.813331",
     "status": "completed"
    },
    "tags": []
   },
   "source": [
    "Inspect your predictions and actual values from validation data."
   ]
  },
  {
   "cell_type": "code",
   "execution_count": 8,
   "id": "8ddc17a8",
   "metadata": {
    "execution": {
     "iopub.execute_input": "2022-12-04T03:17:13.834527Z",
     "iopub.status.busy": "2022-12-04T03:17:13.833348Z",
     "iopub.status.idle": "2022-12-04T03:17:13.839814Z",
     "shell.execute_reply": "2022-12-04T03:17:13.838928Z"
    },
    "papermill": {
     "duration": 0.017312,
     "end_time": "2022-12-04T03:17:13.842297",
     "exception": false,
     "start_time": "2022-12-04T03:17:13.824985",
     "status": "completed"
    },
    "tags": []
   },
   "outputs": [
    {
     "name": "stdout",
     "output_type": "stream",
     "text": [
      "[186500. 184000. 130000.  92000. 164500.]\n",
      "[231500, 179500, 122000, 84500, 142000]\n"
     ]
    }
   ],
   "source": [
    "# print the top few validation predictions\n",
    "print(val_predictions[:5])\n",
    "# print the top few actual prices from validation data\n",
    "print(val_y.head().tolist())"
   ]
  },
  {
   "cell_type": "markdown",
   "id": "856b5481",
   "metadata": {
    "papermill": {
     "duration": 0.005208,
     "end_time": "2022-12-04T03:17:13.853206",
     "exception": false,
     "start_time": "2022-12-04T03:17:13.847998",
     "status": "completed"
    },
    "tags": []
   },
   "source": [
    "What do you notice that is different from what you saw with in-sample predictions (which are printed after the top code cell in this page).\n",
    "\n",
    "Do you remember why validation predictions differ from in-sample (or training) predictions? This is an important idea from the last lesson.\n",
    "\n",
    "## Step 4: Calculate the Mean Absolute Error in Validation Data\n"
   ]
  },
  {
   "cell_type": "code",
   "execution_count": 9,
   "id": "a88a47e9",
   "metadata": {
    "execution": {
     "iopub.execute_input": "2022-12-04T03:17:13.866580Z",
     "iopub.status.busy": "2022-12-04T03:17:13.865646Z",
     "iopub.status.idle": "2022-12-04T03:17:13.876367Z",
     "shell.execute_reply": "2022-12-04T03:17:13.875187Z"
    },
    "papermill": {
     "duration": 0.020295,
     "end_time": "2022-12-04T03:17:13.879004",
     "exception": false,
     "start_time": "2022-12-04T03:17:13.858709",
     "status": "completed"
    },
    "tags": []
   },
   "outputs": [
    {
     "name": "stdout",
     "output_type": "stream",
     "text": [
      "29652.931506849316\n"
     ]
    },
    {
     "data": {
      "application/javascript": [
       "parent.postMessage({\"jupyterEvent\": \"custom.exercise_interaction\", \"data\": {\"outcomeType\": 1, \"valueTowardsCompletion\": 0.25, \"interactionType\": 1, \"questionType\": 1, \"questionId\": \"4_MAE\", \"learnToolsVersion\": \"0.3.4\", \"failureMessage\": \"\", \"exceptionClass\": \"\", \"trace\": \"\"}}, \"*\")"
      ],
      "text/plain": [
       "<IPython.core.display.Javascript object>"
      ]
     },
     "metadata": {},
     "output_type": "display_data"
    },
    {
     "data": {
      "text/markdown": [
       "<span style=\"color:#33cc33\">Correct</span>"
      ],
      "text/plain": [
       "Correct"
      ]
     },
     "metadata": {},
     "output_type": "display_data"
    }
   ],
   "source": [
    "from sklearn.metrics import mean_absolute_error\n",
    "val_mae = mean_absolute_error(val_y,val_predictions)\n",
    "\n",
    "# uncomment following line to see the validation_mae\n",
    "print(val_mae)\n",
    "# \n",
    "# Check your answer\n",
    "step_4.check()"
   ]
  },
  {
   "cell_type": "code",
   "execution_count": 10,
   "id": "b0fe4780",
   "metadata": {
    "execution": {
     "iopub.execute_input": "2022-12-04T03:17:13.892986Z",
     "iopub.status.busy": "2022-12-04T03:17:13.892338Z",
     "iopub.status.idle": "2022-12-04T03:17:13.896641Z",
     "shell.execute_reply": "2022-12-04T03:17:13.895846Z"
    },
    "papermill": {
     "duration": 0.013876,
     "end_time": "2022-12-04T03:17:13.898728",
     "exception": false,
     "start_time": "2022-12-04T03:17:13.884852",
     "status": "completed"
    },
    "tags": []
   },
   "outputs": [],
   "source": [
    "# step_4.hint()\n",
    "# step_4.solution()"
   ]
  },
  {
   "cell_type": "markdown",
   "id": "beed47db",
   "metadata": {
    "papermill": {
     "duration": 0.005612,
     "end_time": "2022-12-04T03:17:13.910537",
     "exception": false,
     "start_time": "2022-12-04T03:17:13.904925",
     "status": "completed"
    },
    "tags": []
   },
   "source": [
    "Is that MAE good?  There isn't a general rule for what values are good that applies across applications. But you'll see how to use (and improve) this number in the next step.\n",
    "\n",
    "# Keep Going\n",
    "\n",
    "You are ready for **[Underfitting and Overfitting](https://www.kaggle.com/dansbecker/underfitting-and-overfitting).**\n"
   ]
  },
  {
   "cell_type": "markdown",
   "id": "a3778967",
   "metadata": {
    "papermill": {
     "duration": 0.005633,
     "end_time": "2022-12-04T03:17:13.922041",
     "exception": false,
     "start_time": "2022-12-04T03:17:13.916408",
     "status": "completed"
    },
    "tags": []
   },
   "source": [
    "---\n",
    "\n",
    "\n",
    "\n",
    "\n",
    "*Have questions or comments? Visit the [course discussion forum](https://www.kaggle.com/learn/intro-to-machine-learning/discussion) to chat with other learners.*"
   ]
  }
 ],
 "metadata": {
  "kernelspec": {
   "display_name": "Python 3",
   "language": "python",
   "name": "python3"
  },
  "language_info": {
   "codemirror_mode": {
    "name": "ipython",
    "version": 3
   },
   "file_extension": ".py",
   "mimetype": "text/x-python",
   "name": "python",
   "nbconvert_exporter": "python",
   "pygments_lexer": "ipython3",
   "version": "3.7.12"
  },
  "papermill": {
   "default_parameters": {},
   "duration": 10.987749,
   "end_time": "2022-12-04T03:17:14.649792",
   "environment_variables": {},
   "exception": null,
   "input_path": "__notebook__.ipynb",
   "output_path": "__notebook__.ipynb",
   "parameters": {},
   "start_time": "2022-12-04T03:17:03.662043",
   "version": "2.3.4"
  }
 },
 "nbformat": 4,
 "nbformat_minor": 5
}
