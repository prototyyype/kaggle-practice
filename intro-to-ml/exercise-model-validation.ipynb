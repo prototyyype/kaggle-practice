{
 "cells": [
  {
   "cell_type": "markdown",
   "id": "a841d4dd",
   "metadata": {
    "papermill": {
     "duration": 0.005704,
     "end_time": "2022-12-04T03:18:02.504298",
     "exception": false,
     "start_time": "2022-12-04T03:18:02.498594",
     "status": "completed"
    },
    "tags": []
   },
   "source": [
    "**This notebook is an exercise in the [Introduction to Machine Learning](https://www.kaggle.com/learn/intro-to-machine-learning) course.  You can reference the tutorial at [this link](https://www.kaggle.com/dansbecker/model-validation).**\n",
    "\n",
    "---\n"
   ]
  },
  {
   "cell_type": "markdown",
   "id": "f24d6b1d",
   "metadata": {
    "papermill": {
     "duration": 0.004579,
     "end_time": "2022-12-04T03:18:02.513946",
     "exception": false,
     "start_time": "2022-12-04T03:18:02.509367",
     "status": "completed"
    },
    "tags": []
   },
   "source": [
    "## Recap\n",
    "You've built a model. In this exercise you will test how good your model is.\n",
    "\n",
    "Run the cell below to set up your coding environment where the previous exercise left off."
   ]
  },
  {
   "cell_type": "code",
   "execution_count": 1,
   "id": "bdb15651",
   "metadata": {
    "execution": {
     "iopub.execute_input": "2022-12-04T03:18:02.526098Z",
     "iopub.status.busy": "2022-12-04T03:18:02.525297Z",
     "iopub.status.idle": "2022-12-04T03:18:03.975536Z",
     "shell.execute_reply": "2022-12-04T03:18:03.974170Z"
    },
    "papermill": {
     "duration": 1.459958,
     "end_time": "2022-12-04T03:18:03.978537",
     "exception": false,
     "start_time": "2022-12-04T03:18:02.518579",
     "status": "completed"
    },
    "tags": []
   },
   "outputs": [
    {
     "name": "stdout",
     "output_type": "stream",
     "text": [
      "First in-sample predictions: [208500. 181500. 223500. 140000. 250000.]\n",
      "Actual target values for those homes: [208500, 181500, 223500, 140000, 250000]\n",
      "Setup Complete\n"
     ]
    }
   ],
   "source": [
    "# Code you have previously used to load data\n",
    "import pandas as pd\n",
    "from sklearn.tree import DecisionTreeRegressor\n",
    "\n",
    "# Path of the file to read\n",
    "iowa_file_path = '../input/home-data-for-ml-course/train.csv'\n",
    "\n",
    "home_data = pd.read_csv(iowa_file_path)\n",
    "y = home_data.SalePrice\n",
    "feature_columns = ['LotArea', 'YearBuilt', '1stFlrSF', '2ndFlrSF', 'FullBath', 'BedroomAbvGr', 'TotRmsAbvGrd']\n",
    "X = home_data[feature_columns]\n",
    "\n",
    "# Specify Model\n",
    "iowa_model = DecisionTreeRegressor()\n",
    "# Fit Model\n",
    "iowa_model.fit(X, y)\n",
    "\n",
    "print(\"First in-sample predictions:\", iowa_model.predict(X.head()))\n",
    "print(\"Actual target values for those homes:\", y.head().tolist())\n",
    "\n",
    "# Set up code checking\n",
    "from learntools.core import binder\n",
    "binder.bind(globals())\n",
    "from learntools.machine_learning.ex4 import *\n",
    "print(\"Setup Complete\")"
   ]
  },
  {
   "cell_type": "markdown",
   "id": "e9a54748",
   "metadata": {
    "papermill": {
     "duration": 0.005343,
     "end_time": "2022-12-04T03:18:03.990106",
     "exception": false,
     "start_time": "2022-12-04T03:18:03.984763",
     "status": "completed"
    },
    "tags": []
   },
   "source": [
    "# Exercises\n",
    "\n",
    "## Step 1: Split Your Data\n",
    "Use the `train_test_split` function to split up your data.\n",
    "\n",
    "Give it the argument `random_state=1` so the `check` functions know what to expect when verifying your code.\n",
    "\n",
    "Recall, your features are loaded in the DataFrame **X** and your target is loaded in **y**.\n"
   ]
  },
  {
   "cell_type": "code",
   "execution_count": 2,
   "id": "53096160",
   "metadata": {
    "execution": {
     "iopub.execute_input": "2022-12-04T03:18:04.002559Z",
     "iopub.status.busy": "2022-12-04T03:18:04.001284Z",
     "iopub.status.idle": "2022-12-04T03:18:04.018239Z",
     "shell.execute_reply": "2022-12-04T03:18:04.017225Z"
    },
    "papermill": {
     "duration": 0.025324,
     "end_time": "2022-12-04T03:18:04.020371",
     "exception": false,
     "start_time": "2022-12-04T03:18:03.995047",
     "status": "completed"
    },
    "tags": []
   },
   "outputs": [
    {
     "data": {
      "application/javascript": [
       "parent.postMessage({\"jupyterEvent\": \"custom.exercise_interaction\", \"data\": {\"outcomeType\": 1, \"valueTowardsCompletion\": 0.25, \"interactionType\": 1, \"questionType\": 2, \"questionId\": \"1_SplitData\", \"learnToolsVersion\": \"0.3.4\", \"failureMessage\": \"\", \"exceptionClass\": \"\", \"trace\": \"\"}}, \"*\")"
      ],
      "text/plain": [
       "<IPython.core.display.Javascript object>"
      ]
     },
     "metadata": {},
     "output_type": "display_data"
    },
    {
     "data": {
      "text/markdown": [
       "<span style=\"color:#33cc33\">Correct</span>"
      ],
      "text/plain": [
       "Correct"
      ]
     },
     "metadata": {},
     "output_type": "display_data"
    }
   ],
   "source": [
    "# Import the train_test_split function and uncomment\n",
    "from sklearn.model_selection import train_test_split\n",
    "\n",
    "# fill in and uncomment\n",
    "train_X, val_X, train_y, val_y = train_test_split(X, y, random_state=1)\n",
    "\n",
    "# Check your answer\n",
    "step_1.check()"
   ]
  },
  {
   "cell_type": "code",
   "execution_count": 3,
   "id": "7fe04f0c",
   "metadata": {
    "execution": {
     "iopub.execute_input": "2022-12-04T03:18:04.033132Z",
     "iopub.status.busy": "2022-12-04T03:18:04.032331Z",
     "iopub.status.idle": "2022-12-04T03:18:04.037068Z",
     "shell.execute_reply": "2022-12-04T03:18:04.036050Z"
    },
    "papermill": {
     "duration": 0.013886,
     "end_time": "2022-12-04T03:18:04.039301",
     "exception": false,
     "start_time": "2022-12-04T03:18:04.025415",
     "status": "completed"
    },
    "tags": []
   },
   "outputs": [],
   "source": [
    "# The lines below will show you a hint or the solution.\n",
    "# step_1.hint() \n",
    "# step_1.solution()\n"
   ]
  },
  {
   "cell_type": "markdown",
   "id": "e88ea396",
   "metadata": {
    "papermill": {
     "duration": 0.004914,
     "end_time": "2022-12-04T03:18:04.049604",
     "exception": false,
     "start_time": "2022-12-04T03:18:04.044690",
     "status": "completed"
    },
    "tags": []
   },
   "source": [
    "## Step 2: Specify and Fit the Model\n",
    "\n",
    "Create a `DecisionTreeRegressor` model and fit it to the relevant data.\n",
    "Set `random_state` to 1 again when creating the model."
   ]
  },
  {
   "cell_type": "code",
   "execution_count": 4,
   "id": "2fdc3fa8",
   "metadata": {
    "execution": {
     "iopub.execute_input": "2022-12-04T03:18:04.062465Z",
     "iopub.status.busy": "2022-12-04T03:18:04.061416Z",
     "iopub.status.idle": "2022-12-04T03:18:04.098058Z",
     "shell.execute_reply": "2022-12-04T03:18:04.096375Z"
    },
    "papermill": {
     "duration": 0.046144,
     "end_time": "2022-12-04T03:18:04.100734",
     "exception": false,
     "start_time": "2022-12-04T03:18:04.054590",
     "status": "completed"
    },
    "tags": []
   },
   "outputs": [
    {
     "name": "stdout",
     "output_type": "stream",
     "text": [
      "[186500. 184000. 130000.  92000. 164500. 220000. 335000. 144152. 215000.\n",
      " 262000.]\n",
      "[186500. 184000. 130000.  92000. 164500. 220000. 335000. 144152. 215000.\n",
      " 262000.]\n"
     ]
    },
    {
     "data": {
      "application/javascript": [
       "parent.postMessage({\"jupyterEvent\": \"custom.exercise_interaction\", \"data\": {\"outcomeType\": 1, \"valueTowardsCompletion\": 0.25, \"interactionType\": 1, \"questionType\": 2, \"questionId\": \"2_FitModelWithTrain\", \"learnToolsVersion\": \"0.3.4\", \"failureMessage\": \"\", \"exceptionClass\": \"\", \"trace\": \"\"}}, \"*\")"
      ],
      "text/plain": [
       "<IPython.core.display.Javascript object>"
      ]
     },
     "metadata": {},
     "output_type": "display_data"
    },
    {
     "data": {
      "text/markdown": [
       "<span style=\"color:#33cc33\">Correct</span>"
      ],
      "text/plain": [
       "Correct"
      ]
     },
     "metadata": {},
     "output_type": "display_data"
    }
   ],
   "source": [
    "# You imported DecisionTreeRegressor in your last exercise\n",
    "# and that code has been copied to the setup code above. So, no need to\n",
    "# import it again\n",
    "\n",
    "# Specify the model\n",
    "iowa_model = DecisionTreeRegressor(random_state=1)\n",
    "\n",
    "# Fit iowa_model with the training data.\n",
    "iowa_model.fit(train_X, train_y)\n",
    "\n",
    "# Check your answer\n",
    "step_2.check()"
   ]
  },
  {
   "cell_type": "code",
   "execution_count": 5,
   "id": "7c01d2c5",
   "metadata": {
    "execution": {
     "iopub.execute_input": "2022-12-04T03:18:04.112982Z",
     "iopub.status.busy": "2022-12-04T03:18:04.112595Z",
     "iopub.status.idle": "2022-12-04T03:18:04.121359Z",
     "shell.execute_reply": "2022-12-04T03:18:04.120324Z"
    },
    "papermill": {
     "duration": 0.017625,
     "end_time": "2022-12-04T03:18:04.123608",
     "exception": false,
     "start_time": "2022-12-04T03:18:04.105983",
     "status": "completed"
    },
    "tags": []
   },
   "outputs": [
    {
     "data": {
      "application/javascript": [
       "parent.postMessage({\"jupyterEvent\": \"custom.exercise_interaction\", \"data\": {\"interactionType\": 2, \"questionType\": 2, \"questionId\": \"2_FitModelWithTrain\", \"learnToolsVersion\": \"0.3.4\", \"valueTowardsCompletion\": 0.0, \"failureMessage\": \"\", \"exceptionClass\": \"\", \"trace\": \"\", \"outcomeType\": 4}}, \"*\")"
      ],
      "text/plain": [
       "<IPython.core.display.Javascript object>"
      ]
     },
     "metadata": {},
     "output_type": "display_data"
    },
    {
     "data": {
      "text/markdown": [
       "<span style=\"color:#3366cc\">Hint:</span> Remember, you fit with training data. You will test with validation data soon"
      ],
      "text/plain": [
       "Hint: Remember, you fit with training data. You will test with validation data soon"
      ]
     },
     "metadata": {},
     "output_type": "display_data"
    }
   ],
   "source": [
    "step_2.hint()\n",
    "# step_2.solution()"
   ]
  },
  {
   "cell_type": "markdown",
   "id": "517ceba0",
   "metadata": {
    "papermill": {
     "duration": 0.005315,
     "end_time": "2022-12-04T03:18:04.135202",
     "exception": false,
     "start_time": "2022-12-04T03:18:04.129887",
     "status": "completed"
    },
    "tags": []
   },
   "source": [
    "## Step 3: Make Predictions with Validation data\n"
   ]
  },
  {
   "cell_type": "code",
   "execution_count": 6,
   "id": "133f99da",
   "metadata": {
    "execution": {
     "iopub.execute_input": "2022-12-04T03:18:04.150562Z",
     "iopub.status.busy": "2022-12-04T03:18:04.149134Z",
     "iopub.status.idle": "2022-12-04T03:18:04.164256Z",
     "shell.execute_reply": "2022-12-04T03:18:04.163201Z"
    },
    "papermill": {
     "duration": 0.024587,
     "end_time": "2022-12-04T03:18:04.166837",
     "exception": false,
     "start_time": "2022-12-04T03:18:04.142250",
     "status": "completed"
    },
    "tags": []
   },
   "outputs": [
    {
     "data": {
      "application/javascript": [
       "parent.postMessage({\"jupyterEvent\": \"custom.exercise_interaction\", \"data\": {\"outcomeType\": 1, \"valueTowardsCompletion\": 0.25, \"interactionType\": 1, \"questionType\": 2, \"questionId\": \"3_ValPreds\", \"learnToolsVersion\": \"0.3.4\", \"failureMessage\": \"\", \"exceptionClass\": \"\", \"trace\": \"\"}}, \"*\")"
      ],
      "text/plain": [
       "<IPython.core.display.Javascript object>"
      ]
     },
     "metadata": {},
     "output_type": "display_data"
    },
    {
     "data": {
      "text/markdown": [
       "<span style=\"color:#33cc33\">Correct</span>"
      ],
      "text/plain": [
       "Correct"
      ]
     },
     "metadata": {},
     "output_type": "display_data"
    }
   ],
   "source": [
    "# Predict with all validation observations\n",
    "val_predictions = iowa_model.predict(val_X)\n",
    "\n",
    "# Check your answer\n",
    "step_3.check()"
   ]
  },
  {
   "cell_type": "code",
   "execution_count": 7,
   "id": "4e06e75d",
   "metadata": {
    "execution": {
     "iopub.execute_input": "2022-12-04T03:18:04.181598Z",
     "iopub.status.busy": "2022-12-04T03:18:04.180278Z",
     "iopub.status.idle": "2022-12-04T03:18:04.185761Z",
     "shell.execute_reply": "2022-12-04T03:18:04.184708Z"
    },
    "papermill": {
     "duration": 0.015589,
     "end_time": "2022-12-04T03:18:04.188184",
     "exception": false,
     "start_time": "2022-12-04T03:18:04.172595",
     "status": "completed"
    },
    "tags": []
   },
   "outputs": [],
   "source": [
    "# step_3.hint()\n",
    "# step_3.solution()"
   ]
  },
  {
   "cell_type": "markdown",
   "id": "321e137a",
   "metadata": {
    "papermill": {
     "duration": 0.005462,
     "end_time": "2022-12-04T03:18:04.199532",
     "exception": false,
     "start_time": "2022-12-04T03:18:04.194070",
     "status": "completed"
    },
    "tags": []
   },
   "source": [
    "Inspect your predictions and actual values from validation data."
   ]
  },
  {
   "cell_type": "code",
   "execution_count": 8,
   "id": "ac9609b9",
   "metadata": {
    "execution": {
     "iopub.execute_input": "2022-12-04T03:18:04.213505Z",
     "iopub.status.busy": "2022-12-04T03:18:04.212192Z",
     "iopub.status.idle": "2022-12-04T03:18:04.220133Z",
     "shell.execute_reply": "2022-12-04T03:18:04.218949Z"
    },
    "papermill": {
     "duration": 0.01831,
     "end_time": "2022-12-04T03:18:04.223482",
     "exception": false,
     "start_time": "2022-12-04T03:18:04.205172",
     "status": "completed"
    },
    "tags": []
   },
   "outputs": [
    {
     "name": "stdout",
     "output_type": "stream",
     "text": [
      "[186500. 184000. 130000.  92000. 164500.]\n",
      "[231500, 179500, 122000, 84500, 142000]\n"
     ]
    }
   ],
   "source": [
    "# print the top few validation predictions\n",
    "print(val_predictions[:5])\n",
    "# print the top few actual prices from validation data\n",
    "print(val_y.head().tolist())"
   ]
  },
  {
   "cell_type": "markdown",
   "id": "d9ae8499",
   "metadata": {
    "papermill": {
     "duration": 0.005421,
     "end_time": "2022-12-04T03:18:04.235186",
     "exception": false,
     "start_time": "2022-12-04T03:18:04.229765",
     "status": "completed"
    },
    "tags": []
   },
   "source": [
    "What do you notice that is different from what you saw with in-sample predictions (which are printed after the top code cell in this page).\n",
    "\n",
    "Do you remember why validation predictions differ from in-sample (or training) predictions? This is an important idea from the last lesson.\n",
    "\n",
    "## Step 4: Calculate the Mean Absolute Error in Validation Data\n"
   ]
  },
  {
   "cell_type": "code",
   "execution_count": 9,
   "id": "7ee0d85d",
   "metadata": {
    "execution": {
     "iopub.execute_input": "2022-12-04T03:18:04.248619Z",
     "iopub.status.busy": "2022-12-04T03:18:04.248193Z",
     "iopub.status.idle": "2022-12-04T03:18:04.261047Z",
     "shell.execute_reply": "2022-12-04T03:18:04.258962Z"
    },
    "papermill": {
     "duration": 0.022626,
     "end_time": "2022-12-04T03:18:04.263549",
     "exception": false,
     "start_time": "2022-12-04T03:18:04.240923",
     "status": "completed"
    },
    "tags": []
   },
   "outputs": [
    {
     "name": "stdout",
     "output_type": "stream",
     "text": [
      "29652.931506849316\n"
     ]
    },
    {
     "data": {
      "application/javascript": [
       "parent.postMessage({\"jupyterEvent\": \"custom.exercise_interaction\", \"data\": {\"outcomeType\": 1, \"valueTowardsCompletion\": 0.25, \"interactionType\": 1, \"questionType\": 1, \"questionId\": \"4_MAE\", \"learnToolsVersion\": \"0.3.4\", \"failureMessage\": \"\", \"exceptionClass\": \"\", \"trace\": \"\"}}, \"*\")"
      ],
      "text/plain": [
       "<IPython.core.display.Javascript object>"
      ]
     },
     "metadata": {},
     "output_type": "display_data"
    },
    {
     "data": {
      "text/markdown": [
       "<span style=\"color:#33cc33\">Correct</span>"
      ],
      "text/plain": [
       "Correct"
      ]
     },
     "metadata": {},
     "output_type": "display_data"
    }
   ],
   "source": [
    "from sklearn.metrics import mean_absolute_error\n",
    "val_mae = mean_absolute_error(val_y,val_predictions)\n",
    "\n",
    "# uncomment following line to see the validation_mae\n",
    "print(val_mae)\n",
    "# \n",
    "# Check your answer\n",
    "step_4.check()"
   ]
  },
  {
   "cell_type": "code",
   "execution_count": 10,
   "id": "1a0a3040",
   "metadata": {
    "execution": {
     "iopub.execute_input": "2022-12-04T03:18:04.278067Z",
     "iopub.status.busy": "2022-12-04T03:18:04.277348Z",
     "iopub.status.idle": "2022-12-04T03:18:04.282079Z",
     "shell.execute_reply": "2022-12-04T03:18:04.280972Z"
    },
    "papermill": {
     "duration": 0.014668,
     "end_time": "2022-12-04T03:18:04.284448",
     "exception": false,
     "start_time": "2022-12-04T03:18:04.269780",
     "status": "completed"
    },
    "tags": []
   },
   "outputs": [],
   "source": [
    "# step_4.hint()\n",
    "# step_4.solution()"
   ]
  },
  {
   "cell_type": "markdown",
   "id": "f60428a9",
   "metadata": {
    "papermill": {
     "duration": 0.005755,
     "end_time": "2022-12-04T03:18:04.296552",
     "exception": false,
     "start_time": "2022-12-04T03:18:04.290797",
     "status": "completed"
    },
    "tags": []
   },
   "source": [
    "Is that MAE good?  There isn't a general rule for what values are good that applies across applications. But you'll see how to use (and improve) this number in the next step.\n",
    "\n",
    "# Keep Going\n",
    "\n",
    "You are ready for **[Underfitting and Overfitting](https://www.kaggle.com/dansbecker/underfitting-and-overfitting).**\n"
   ]
  },
  {
   "cell_type": "markdown",
   "id": "4676eb8d",
   "metadata": {
    "papermill": {
     "duration": 0.005622,
     "end_time": "2022-12-04T03:18:04.308121",
     "exception": false,
     "start_time": "2022-12-04T03:18:04.302499",
     "status": "completed"
    },
    "tags": []
   },
   "source": [
    "---\n",
    "\n",
    "\n",
    "\n",
    "\n",
    "*Have questions or comments? Visit the [course discussion forum](https://www.kaggle.com/learn/intro-to-machine-learning/discussion) to chat with other learners.*"
   ]
  }
 ],
 "metadata": {
  "kernelspec": {
   "display_name": "Python 3",
   "language": "python",
   "name": "python3"
  },
  "language_info": {
   "codemirror_mode": {
    "name": "ipython",
    "version": 3
   },
   "file_extension": ".py",
   "mimetype": "text/x-python",
   "name": "python",
   "nbconvert_exporter": "python",
   "pygments_lexer": "ipython3",
   "version": "3.7.12"
  },
  "papermill": {
   "default_parameters": {},
   "duration": 11.406564,
   "end_time": "2022-12-04T03:18:05.135806",
   "environment_variables": {},
   "exception": null,
   "input_path": "__notebook__.ipynb",
   "output_path": "__notebook__.ipynb",
   "parameters": {},
   "start_time": "2022-12-04T03:17:53.729242",
   "version": "2.3.4"
  }
 },
 "nbformat": 4,
 "nbformat_minor": 5
}
