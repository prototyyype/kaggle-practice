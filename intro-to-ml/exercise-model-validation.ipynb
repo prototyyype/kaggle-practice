{
 "cells": [
  {
   "cell_type": "markdown",
   "id": "72df99ef",
   "metadata": {
    "papermill": {
     "duration": 0.007765,
     "end_time": "2022-12-04T03:00:50.799729",
     "exception": false,
     "start_time": "2022-12-04T03:00:50.791964",
     "status": "completed"
    },
    "tags": []
   },
   "source": [
    "**This notebook is an exercise in the [Introduction to Machine Learning](https://www.kaggle.com/learn/intro-to-machine-learning) course.  You can reference the tutorial at [this link](https://www.kaggle.com/dansbecker/model-validation).**\n",
    "\n",
    "---\n"
   ]
  },
  {
   "cell_type": "markdown",
   "id": "290aecca",
   "metadata": {
    "papermill": {
     "duration": 0.005378,
     "end_time": "2022-12-04T03:00:50.814571",
     "exception": false,
     "start_time": "2022-12-04T03:00:50.809193",
     "status": "completed"
    },
    "tags": []
   },
   "source": [
    "## Recap\n",
    "You've built a model. In this exercise you will test how good your model is.\n",
    "\n",
    "Run the cell below to set up your coding environment where the previous exercise left off."
   ]
  },
  {
   "cell_type": "code",
   "execution_count": 1,
   "id": "71f5740c",
   "metadata": {
    "execution": {
     "iopub.execute_input": "2022-12-04T03:00:50.829815Z",
     "iopub.status.busy": "2022-12-04T03:00:50.828281Z",
     "iopub.status.idle": "2022-12-04T03:00:52.331216Z",
     "shell.execute_reply": "2022-12-04T03:00:52.327525Z"
    },
    "papermill": {
     "duration": 1.514508,
     "end_time": "2022-12-04T03:00:52.334456",
     "exception": false,
     "start_time": "2022-12-04T03:00:50.819948",
     "status": "completed"
    },
    "tags": []
   },
   "outputs": [
    {
     "name": "stdout",
     "output_type": "stream",
     "text": [
      "First in-sample predictions: [208500. 181500. 223500. 140000. 250000.]\n",
      "Actual target values for those homes: [208500, 181500, 223500, 140000, 250000]\n",
      "Setup Complete\n"
     ]
    }
   ],
   "source": [
    "# Code you have previously used to load data\n",
    "import pandas as pd\n",
    "from sklearn.tree import DecisionTreeRegressor\n",
    "\n",
    "# Path of the file to read\n",
    "iowa_file_path = '../input/home-data-for-ml-course/train.csv'\n",
    "\n",
    "home_data = pd.read_csv(iowa_file_path)\n",
    "y = home_data.SalePrice\n",
    "feature_columns = ['LotArea', 'YearBuilt', '1stFlrSF', '2ndFlrSF', 'FullBath', 'BedroomAbvGr', 'TotRmsAbvGrd']\n",
    "X = home_data[feature_columns]\n",
    "\n",
    "# Specify Model\n",
    "iowa_model = DecisionTreeRegressor()\n",
    "# Fit Model\n",
    "iowa_model.fit(X, y)\n",
    "\n",
    "print(\"First in-sample predictions:\", iowa_model.predict(X.head()))\n",
    "print(\"Actual target values for those homes:\", y.head().tolist())\n",
    "\n",
    "# Set up code checking\n",
    "from learntools.core import binder\n",
    "binder.bind(globals())\n",
    "from learntools.machine_learning.ex4 import *\n",
    "print(\"Setup Complete\")"
   ]
  },
  {
   "cell_type": "markdown",
   "id": "0966e011",
   "metadata": {
    "papermill": {
     "duration": 0.004592,
     "end_time": "2022-12-04T03:00:52.344362",
     "exception": false,
     "start_time": "2022-12-04T03:00:52.339770",
     "status": "completed"
    },
    "tags": []
   },
   "source": [
    "# Exercises\n",
    "\n",
    "## Step 1: Split Your Data\n",
    "Use the `train_test_split` function to split up your data.\n",
    "\n",
    "Give it the argument `random_state=1` so the `check` functions know what to expect when verifying your code.\n",
    "\n",
    "Recall, your features are loaded in the DataFrame **X** and your target is loaded in **y**.\n"
   ]
  },
  {
   "cell_type": "code",
   "execution_count": 2,
   "id": "c35ebb16",
   "metadata": {
    "execution": {
     "iopub.execute_input": "2022-12-04T03:00:52.356404Z",
     "iopub.status.busy": "2022-12-04T03:00:52.355930Z",
     "iopub.status.idle": "2022-12-04T03:00:52.374023Z",
     "shell.execute_reply": "2022-12-04T03:00:52.372803Z"
    },
    "papermill": {
     "duration": 0.027408,
     "end_time": "2022-12-04T03:00:52.376594",
     "exception": false,
     "start_time": "2022-12-04T03:00:52.349186",
     "status": "completed"
    },
    "tags": []
   },
   "outputs": [
    {
     "data": {
      "application/javascript": [
       "parent.postMessage({\"jupyterEvent\": \"custom.exercise_interaction\", \"data\": {\"outcomeType\": 1, \"valueTowardsCompletion\": 0.25, \"interactionType\": 1, \"questionType\": 2, \"questionId\": \"1_SplitData\", \"learnToolsVersion\": \"0.3.4\", \"failureMessage\": \"\", \"exceptionClass\": \"\", \"trace\": \"\"}}, \"*\")"
      ],
      "text/plain": [
       "<IPython.core.display.Javascript object>"
      ]
     },
     "metadata": {},
     "output_type": "display_data"
    },
    {
     "data": {
      "text/markdown": [
       "<span style=\"color:#33cc33\">Correct</span>"
      ],
      "text/plain": [
       "Correct"
      ]
     },
     "metadata": {},
     "output_type": "display_data"
    }
   ],
   "source": [
    "# Import the train_test_split function and uncomment\n",
    "from sklearn.model_selection import train_test_split\n",
    "\n",
    "# fill in and uncomment\n",
    "train_X, val_X, train_y, val_y = train_test_split(X, y, random_state=1)\n",
    "\n",
    "# Check your answer\n",
    "step_1.check()"
   ]
  },
  {
   "cell_type": "code",
   "execution_count": 3,
   "id": "6ebfd74b",
   "metadata": {
    "execution": {
     "iopub.execute_input": "2022-12-04T03:00:52.394370Z",
     "iopub.status.busy": "2022-12-04T03:00:52.393496Z",
     "iopub.status.idle": "2022-12-04T03:00:52.401001Z",
     "shell.execute_reply": "2022-12-04T03:00:52.399363Z"
    },
    "papermill": {
     "duration": 0.020255,
     "end_time": "2022-12-04T03:00:52.404221",
     "exception": false,
     "start_time": "2022-12-04T03:00:52.383966",
     "status": "completed"
    },
    "tags": []
   },
   "outputs": [],
   "source": [
    "# The lines below will show you a hint or the solution.\n",
    "# step_1.hint() \n",
    "# step_1.solution()\n"
   ]
  },
  {
   "cell_type": "markdown",
   "id": "0fa067e0",
   "metadata": {
    "papermill": {
     "duration": 0.005291,
     "end_time": "2022-12-04T03:00:52.416893",
     "exception": false,
     "start_time": "2022-12-04T03:00:52.411602",
     "status": "completed"
    },
    "tags": []
   },
   "source": [
    "## Step 2: Specify and Fit the Model\n",
    "\n",
    "Create a `DecisionTreeRegressor` model and fit it to the relevant data.\n",
    "Set `random_state` to 1 again when creating the model."
   ]
  },
  {
   "cell_type": "code",
   "execution_count": 4,
   "id": "bfd038e5",
   "metadata": {
    "execution": {
     "iopub.execute_input": "2022-12-04T03:00:52.437672Z",
     "iopub.status.busy": "2022-12-04T03:00:52.437081Z",
     "iopub.status.idle": "2022-12-04T03:00:52.480119Z",
     "shell.execute_reply": "2022-12-04T03:00:52.478554Z"
    },
    "papermill": {
     "duration": 0.058719,
     "end_time": "2022-12-04T03:00:52.483986",
     "exception": false,
     "start_time": "2022-12-04T03:00:52.425267",
     "status": "completed"
    },
    "tags": []
   },
   "outputs": [
    {
     "name": "stdout",
     "output_type": "stream",
     "text": [
      "[186500. 184000. 130000.  92000. 164500. 220000. 335000. 144152. 215000.\n",
      " 262000.]\n",
      "[231500. 179500. 122000.  84500. 142000. 325624. 285000. 147576. 195000.\n",
      " 275000.]\n"
     ]
    },
    {
     "data": {
      "application/javascript": [
       "parent.postMessage({\"jupyterEvent\": \"custom.exercise_interaction\", \"data\": {\"outcomeType\": 2, \"failureMessage\": \"Model was tested by predicting the value of first row training data. Expected prediction of `[186500. 184000. 130000.  92000. 164500. 220000. 335000. 144152. 215000.\\n 262000.]`. Model actually predicted `[231500. 179500. 122000.  84500. 142000. 325624. 285000. 147576. 195000.\\n 275000.]`. Did you set the `random_state` and pass the right data?\", \"interactionType\": 1, \"questionType\": 2, \"questionId\": \"2_FitModelWithTrain\", \"learnToolsVersion\": \"0.3.4\", \"valueTowardsCompletion\": 0.0, \"exceptionClass\": \"\", \"trace\": \"\"}}, \"*\")"
      ],
      "text/plain": [
       "<IPython.core.display.Javascript object>"
      ]
     },
     "metadata": {},
     "output_type": "display_data"
    },
    {
     "data": {
      "text/markdown": [
       "<span style=\"color:#cc3333\">Incorrect:</span> Model was tested by predicting the value of first row training data. Expected prediction of `[186500. 184000. 130000.  92000. 164500. 220000. 335000. 144152. 215000.\n",
       " 262000.]`. Model actually predicted `[231500. 179500. 122000.  84500. 142000. 325624. 285000. 147576. 195000.\n",
       " 275000.]`. Did you set the `random_state` and pass the right data?"
      ],
      "text/plain": [
       "Incorrect: Model was tested by predicting the value of first row training data. Expected prediction of `[186500. 184000. 130000.  92000. 164500. 220000. 335000. 144152. 215000.\n",
       " 262000.]`. Model actually predicted `[231500. 179500. 122000.  84500. 142000. 325624. 285000. 147576. 195000.\n",
       " 275000.]`. Did you set the `random_state` and pass the right data?"
      ]
     },
     "metadata": {},
     "output_type": "display_data"
    }
   ],
   "source": [
    "# You imported DecisionTreeRegressor in your last exercise\n",
    "# and that code has been copied to the setup code above. So, no need to\n",
    "# import it again\n",
    "\n",
    "# Specify the model\n",
    "iowa_model = DecisionTreeRegressor(random_state=1)\n",
    "\n",
    "# Fit iowa_model with the training data.\n",
    "iowa_model.fit(X, y)\n",
    "\n",
    "# Check your answer\n",
    "step_2.check()"
   ]
  },
  {
   "cell_type": "code",
   "execution_count": 5,
   "id": "0055aa94",
   "metadata": {
    "execution": {
     "iopub.execute_input": "2022-12-04T03:00:52.502333Z",
     "iopub.status.busy": "2022-12-04T03:00:52.501825Z",
     "iopub.status.idle": "2022-12-04T03:00:52.506696Z",
     "shell.execute_reply": "2022-12-04T03:00:52.505451Z"
    },
    "papermill": {
     "duration": 0.016456,
     "end_time": "2022-12-04T03:00:52.509188",
     "exception": false,
     "start_time": "2022-12-04T03:00:52.492732",
     "status": "completed"
    },
    "tags": []
   },
   "outputs": [],
   "source": [
    "# step_2.hint()\n",
    "# step_2.solution()"
   ]
  },
  {
   "cell_type": "markdown",
   "id": "97c4e6b4",
   "metadata": {
    "papermill": {
     "duration": 0.00524,
     "end_time": "2022-12-04T03:00:52.520352",
     "exception": false,
     "start_time": "2022-12-04T03:00:52.515112",
     "status": "completed"
    },
    "tags": []
   },
   "source": [
    "## Step 3: Make Predictions with Validation data\n"
   ]
  },
  {
   "cell_type": "code",
   "execution_count": 6,
   "id": "6337707b",
   "metadata": {
    "execution": {
     "iopub.execute_input": "2022-12-04T03:00:52.535954Z",
     "iopub.status.busy": "2022-12-04T03:00:52.534784Z",
     "iopub.status.idle": "2022-12-04T03:00:52.544617Z",
     "shell.execute_reply": "2022-12-04T03:00:52.543458Z"
    },
    "papermill": {
     "duration": 0.021188,
     "end_time": "2022-12-04T03:00:52.547063",
     "exception": false,
     "start_time": "2022-12-04T03:00:52.525875",
     "status": "completed"
    },
    "tags": []
   },
   "outputs": [
    {
     "data": {
      "application/javascript": [
       "parent.postMessage({\"jupyterEvent\": \"custom.exercise_interaction\", \"data\": {\"outcomeType\": 4, \"interactionType\": 1, \"questionType\": 2, \"questionId\": \"3_ValPreds\", \"learnToolsVersion\": \"0.3.4\", \"valueTowardsCompletion\": 0.0, \"failureMessage\": \"\", \"exceptionClass\": \"\", \"trace\": \"\"}}, \"*\")"
      ],
      "text/plain": [
       "<IPython.core.display.Javascript object>"
      ]
     },
     "metadata": {},
     "output_type": "display_data"
    },
    {
     "data": {
      "text/markdown": [
       "<span style=\"color:#ccaa33\">Check:</span> When you've updated the starter code, `check()` will tell you whether your code is correct. You need to update the code that creates variables `val_predictions`, `iowa_model`, `val_X`"
      ],
      "text/plain": [
       "Check: When you've updated the starter code, `check()` will tell you whether your code is correct. You need to update the code that creates variables `val_predictions`, `iowa_model`, `val_X`"
      ]
     },
     "metadata": {},
     "output_type": "display_data"
    }
   ],
   "source": [
    "# Predict with all validation observations\n",
    "val_predictions = ____\n",
    "\n",
    "# Check your answer\n",
    "step_3.check()"
   ]
  },
  {
   "cell_type": "code",
   "execution_count": 7,
   "id": "775f70c3",
   "metadata": {
    "execution": {
     "iopub.execute_input": "2022-12-04T03:00:52.560937Z",
     "iopub.status.busy": "2022-12-04T03:00:52.560416Z",
     "iopub.status.idle": "2022-12-04T03:00:52.564986Z",
     "shell.execute_reply": "2022-12-04T03:00:52.563953Z"
    },
    "papermill": {
     "duration": 0.014066,
     "end_time": "2022-12-04T03:00:52.567080",
     "exception": false,
     "start_time": "2022-12-04T03:00:52.553014",
     "status": "completed"
    },
    "tags": []
   },
   "outputs": [],
   "source": [
    "# step_3.hint()\n",
    "# step_3.solution()"
   ]
  },
  {
   "cell_type": "markdown",
   "id": "ba831d1a",
   "metadata": {
    "papermill": {
     "duration": 0.005301,
     "end_time": "2022-12-04T03:00:52.578038",
     "exception": false,
     "start_time": "2022-12-04T03:00:52.572737",
     "status": "completed"
    },
    "tags": []
   },
   "source": [
    "Inspect your predictions and actual values from validation data."
   ]
  },
  {
   "cell_type": "code",
   "execution_count": 8,
   "id": "91deb56b",
   "metadata": {
    "execution": {
     "iopub.execute_input": "2022-12-04T03:00:52.592576Z",
     "iopub.status.busy": "2022-12-04T03:00:52.591201Z",
     "iopub.status.idle": "2022-12-04T03:00:52.598127Z",
     "shell.execute_reply": "2022-12-04T03:00:52.596562Z"
    },
    "papermill": {
     "duration": 0.017442,
     "end_time": "2022-12-04T03:00:52.601153",
     "exception": false,
     "start_time": "2022-12-04T03:00:52.583711",
     "status": "completed"
    },
    "tags": []
   },
   "outputs": [
    {
     "name": "stdout",
     "output_type": "stream",
     "text": [
      "<learntools.core.constants.PlaceholderValue object at 0x7f9599e087d0>\n",
      "<learntools.core.constants.PlaceholderValue object at 0x7f9599e087d0>\n"
     ]
    }
   ],
   "source": [
    "# print the top few validation predictions\n",
    "print(____)\n",
    "# print the top few actual prices from validation data\n",
    "print(____)"
   ]
  },
  {
   "cell_type": "markdown",
   "id": "8fc778d0",
   "metadata": {
    "papermill": {
     "duration": 0.005526,
     "end_time": "2022-12-04T03:00:52.612985",
     "exception": false,
     "start_time": "2022-12-04T03:00:52.607459",
     "status": "completed"
    },
    "tags": []
   },
   "source": [
    "What do you notice that is different from what you saw with in-sample predictions (which are printed after the top code cell in this page).\n",
    "\n",
    "Do you remember why validation predictions differ from in-sample (or training) predictions? This is an important idea from the last lesson.\n",
    "\n",
    "## Step 4: Calculate the Mean Absolute Error in Validation Data\n"
   ]
  },
  {
   "cell_type": "code",
   "execution_count": 9,
   "id": "62ab5663",
   "metadata": {
    "execution": {
     "iopub.execute_input": "2022-12-04T03:00:52.626773Z",
     "iopub.status.busy": "2022-12-04T03:00:52.626231Z",
     "iopub.status.idle": "2022-12-04T03:00:52.635865Z",
     "shell.execute_reply": "2022-12-04T03:00:52.634489Z"
    },
    "papermill": {
     "duration": 0.019528,
     "end_time": "2022-12-04T03:00:52.638463",
     "exception": false,
     "start_time": "2022-12-04T03:00:52.618935",
     "status": "completed"
    },
    "tags": []
   },
   "outputs": [
    {
     "data": {
      "application/javascript": [
       "parent.postMessage({\"jupyterEvent\": \"custom.exercise_interaction\", \"data\": {\"outcomeType\": 4, \"interactionType\": 1, \"questionType\": 1, \"questionId\": \"4_MAE\", \"learnToolsVersion\": \"0.3.4\", \"valueTowardsCompletion\": 0.0, \"failureMessage\": \"\", \"exceptionClass\": \"\", \"trace\": \"\"}}, \"*\")"
      ],
      "text/plain": [
       "<IPython.core.display.Javascript object>"
      ]
     },
     "metadata": {},
     "output_type": "display_data"
    },
    {
     "data": {
      "text/markdown": [
       "<span style=\"color:#ccaa33\">Check:</span> When you've updated the starter code, `check()` will tell you whether your code is correct. You need to update the code that creates variable `val_mae`"
      ],
      "text/plain": [
       "Check: When you've updated the starter code, `check()` will tell you whether your code is correct. You need to update the code that creates variable `val_mae`"
      ]
     },
     "metadata": {},
     "output_type": "display_data"
    }
   ],
   "source": [
    "from sklearn.metrics import mean_absolute_error\n",
    "val_mae = ____\n",
    "\n",
    "# uncomment following line to see the validation_mae\n",
    "#print(val_mae)\n",
    "\n",
    "# Check your answer\n",
    "step_4.check()"
   ]
  },
  {
   "cell_type": "code",
   "execution_count": 10,
   "id": "100112dc",
   "metadata": {
    "execution": {
     "iopub.execute_input": "2022-12-04T03:00:52.653725Z",
     "iopub.status.busy": "2022-12-04T03:00:52.653202Z",
     "iopub.status.idle": "2022-12-04T03:00:52.658566Z",
     "shell.execute_reply": "2022-12-04T03:00:52.657086Z"
    },
    "papermill": {
     "duration": 0.016314,
     "end_time": "2022-12-04T03:00:52.661335",
     "exception": false,
     "start_time": "2022-12-04T03:00:52.645021",
     "status": "completed"
    },
    "tags": []
   },
   "outputs": [],
   "source": [
    "# step_4.hint()\n",
    "# step_4.solution()"
   ]
  },
  {
   "cell_type": "markdown",
   "id": "92c6668b",
   "metadata": {
    "papermill": {
     "duration": 0.005716,
     "end_time": "2022-12-04T03:00:52.673428",
     "exception": false,
     "start_time": "2022-12-04T03:00:52.667712",
     "status": "completed"
    },
    "tags": []
   },
   "source": [
    "Is that MAE good?  There isn't a general rule for what values are good that applies across applications. But you'll see how to use (and improve) this number in the next step.\n",
    "\n",
    "# Keep Going\n",
    "\n",
    "You are ready for **[Underfitting and Overfitting](https://www.kaggle.com/dansbecker/underfitting-and-overfitting).**\n"
   ]
  },
  {
   "cell_type": "markdown",
   "id": "d0f93b35",
   "metadata": {
    "papermill": {
     "duration": 0.005936,
     "end_time": "2022-12-04T03:00:52.686196",
     "exception": false,
     "start_time": "2022-12-04T03:00:52.680260",
     "status": "completed"
    },
    "tags": []
   },
   "source": [
    "---\n",
    "\n",
    "\n",
    "\n",
    "\n",
    "*Have questions or comments? Visit the [course discussion forum](https://www.kaggle.com/learn/intro-to-machine-learning/discussion) to chat with other learners.*"
   ]
  }
 ],
 "metadata": {
  "kernelspec": {
   "display_name": "Python 3",
   "language": "python",
   "name": "python3"
  },
  "language_info": {
   "codemirror_mode": {
    "name": "ipython",
    "version": 3
   },
   "file_extension": ".py",
   "mimetype": "text/x-python",
   "name": "python",
   "nbconvert_exporter": "python",
   "pygments_lexer": "ipython3",
   "version": "3.7.12"
  },
  "papermill": {
   "default_parameters": {},
   "duration": 12.304951,
   "end_time": "2022-12-04T03:00:53.819406",
   "environment_variables": {},
   "exception": null,
   "input_path": "__notebook__.ipynb",
   "output_path": "__notebook__.ipynb",
   "parameters": {},
   "start_time": "2022-12-04T03:00:41.514455",
   "version": "2.3.4"
  }
 },
 "nbformat": 4,
 "nbformat_minor": 5
}
