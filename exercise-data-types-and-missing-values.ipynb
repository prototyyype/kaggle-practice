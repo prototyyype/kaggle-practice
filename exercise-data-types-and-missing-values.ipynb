{
 "cells": [
  {
   "cell_type": "markdown",
   "id": "dba18d5f",
   "metadata": {
    "papermill": {
     "duration": 0.005576,
     "end_time": "2022-11-25T21:06:46.186477",
     "exception": false,
     "start_time": "2022-11-25T21:06:46.180901",
     "status": "completed"
    },
    "tags": []
   },
   "source": [
    "**This notebook is an exercise in the [Pandas](https://www.kaggle.com/learn/pandas) course.  You can reference the tutorial at [this link](https://www.kaggle.com/residentmario/data-types-and-missing-values).**\n",
    "\n",
    "---\n"
   ]
  },
  {
   "cell_type": "markdown",
   "id": "86069897",
   "metadata": {
    "papermill": {
     "duration": 0.003983,
     "end_time": "2022-11-25T21:06:46.194925",
     "exception": false,
     "start_time": "2022-11-25T21:06:46.190942",
     "status": "completed"
    },
    "tags": []
   },
   "source": [
    "# Introduction\n",
    "\n",
    "Run the following cell to load your data and some utility functions."
   ]
  },
  {
   "cell_type": "code",
   "execution_count": 1,
   "id": "a11bf9cb",
   "metadata": {
    "execution": {
     "iopub.execute_input": "2022-11-25T21:06:46.206296Z",
     "iopub.status.busy": "2022-11-25T21:06:46.205383Z",
     "iopub.status.idle": "2022-11-25T21:06:49.141495Z",
     "shell.execute_reply": "2022-11-25T21:06:49.140345Z"
    },
    "papermill": {
     "duration": 2.945208,
     "end_time": "2022-11-25T21:06:49.144356",
     "exception": false,
     "start_time": "2022-11-25T21:06:46.199148",
     "status": "completed"
    },
    "tags": []
   },
   "outputs": [
    {
     "name": "stdout",
     "output_type": "stream",
     "text": [
      "Setup complete.\n"
     ]
    }
   ],
   "source": [
    "import pandas as pd\n",
    "\n",
    "reviews = pd.read_csv(\"../input/wine-reviews/winemag-data-130k-v2.csv\", index_col=0)\n",
    "\n",
    "from learntools.core import binder; binder.bind(globals())\n",
    "from learntools.pandas.data_types_and_missing_data import *\n",
    "print(\"Setup complete.\")"
   ]
  },
  {
   "cell_type": "markdown",
   "id": "a7e4d517",
   "metadata": {
    "papermill": {
     "duration": 0.004106,
     "end_time": "2022-11-25T21:06:49.152995",
     "exception": false,
     "start_time": "2022-11-25T21:06:49.148889",
     "status": "completed"
    },
    "tags": []
   },
   "source": [
    "# Exercises"
   ]
  },
  {
   "cell_type": "markdown",
   "id": "6b9d0db3",
   "metadata": {
    "papermill": {
     "duration": 0.003904,
     "end_time": "2022-11-25T21:06:49.161226",
     "exception": false,
     "start_time": "2022-11-25T21:06:49.157322",
     "status": "completed"
    },
    "tags": []
   },
   "source": [
    "## 1. \n",
    "What is the data type of the `points` column in the dataset?"
   ]
  },
  {
   "cell_type": "code",
   "execution_count": 2,
   "id": "678bd127",
   "metadata": {
    "execution": {
     "iopub.execute_input": "2022-11-25T21:06:49.171979Z",
     "iopub.status.busy": "2022-11-25T21:06:49.171587Z",
     "iopub.status.idle": "2022-11-25T21:06:49.183482Z",
     "shell.execute_reply": "2022-11-25T21:06:49.182489Z"
    },
    "papermill": {
     "duration": 0.019928,
     "end_time": "2022-11-25T21:06:49.185801",
     "exception": false,
     "start_time": "2022-11-25T21:06:49.165873",
     "status": "completed"
    },
    "tags": []
   },
   "outputs": [
    {
     "data": {
      "application/javascript": [
       "parent.postMessage({\"jupyterEvent\": \"custom.exercise_interaction\", \"data\": {\"outcomeType\": 1, \"valueTowardsCompletion\": 0.25, \"interactionType\": 1, \"questionType\": 1, \"questionId\": \"1_PointsDtype\", \"learnToolsVersion\": \"0.3.4\", \"failureMessage\": \"\", \"exceptionClass\": \"\", \"trace\": \"\"}}, \"*\")"
      ],
      "text/plain": [
       "<IPython.core.display.Javascript object>"
      ]
     },
     "metadata": {},
     "output_type": "display_data"
    },
    {
     "data": {
      "text/markdown": [
       "<span style=\"color:#33cc33\">Correct</span>"
      ],
      "text/plain": [
       "Correct"
      ]
     },
     "metadata": {},
     "output_type": "display_data"
    }
   ],
   "source": [
    "# Your code here\n",
    "dtype = reviews.points.dtype\n",
    "\n",
    "# Check your answer\n",
    "q1.check()"
   ]
  },
  {
   "cell_type": "code",
   "execution_count": 3,
   "id": "0ec5c6b2",
   "metadata": {
    "execution": {
     "iopub.execute_input": "2022-11-25T21:06:49.196772Z",
     "iopub.status.busy": "2022-11-25T21:06:49.196408Z",
     "iopub.status.idle": "2022-11-25T21:06:49.200320Z",
     "shell.execute_reply": "2022-11-25T21:06:49.199280Z"
    },
    "papermill": {
     "duration": 0.011948,
     "end_time": "2022-11-25T21:06:49.202462",
     "exception": false,
     "start_time": "2022-11-25T21:06:49.190514",
     "status": "completed"
    },
    "tags": []
   },
   "outputs": [],
   "source": [
    "#q1.hint()\n",
    "#q1.solution()"
   ]
  },
  {
   "cell_type": "markdown",
   "id": "c23cb37f",
   "metadata": {
    "papermill": {
     "duration": 0.004124,
     "end_time": "2022-11-25T21:06:49.211064",
     "exception": false,
     "start_time": "2022-11-25T21:06:49.206940",
     "status": "completed"
    },
    "tags": []
   },
   "source": [
    "## 2. \n",
    "Create a Series from entries in the `points` column, but convert the entries to strings. Hint: strings are `str` in native Python."
   ]
  },
  {
   "cell_type": "code",
   "execution_count": 4,
   "id": "57b2f85e",
   "metadata": {
    "execution": {
     "iopub.execute_input": "2022-11-25T21:06:49.221533Z",
     "iopub.status.busy": "2022-11-25T21:06:49.221133Z",
     "iopub.status.idle": "2022-11-25T21:06:49.310123Z",
     "shell.execute_reply": "2022-11-25T21:06:49.309073Z"
    },
    "papermill": {
     "duration": 0.097005,
     "end_time": "2022-11-25T21:06:49.312440",
     "exception": false,
     "start_time": "2022-11-25T21:06:49.215435",
     "status": "completed"
    },
    "tags": []
   },
   "outputs": [
    {
     "data": {
      "application/javascript": [
       "parent.postMessage({\"jupyterEvent\": \"custom.exercise_interaction\", \"data\": {\"outcomeType\": 1, \"valueTowardsCompletion\": 0.25, \"interactionType\": 1, \"questionType\": 1, \"questionId\": \"2_StrPoints\", \"learnToolsVersion\": \"0.3.4\", \"failureMessage\": \"\", \"exceptionClass\": \"\", \"trace\": \"\"}}, \"*\")"
      ],
      "text/plain": [
       "<IPython.core.display.Javascript object>"
      ]
     },
     "metadata": {},
     "output_type": "display_data"
    },
    {
     "data": {
      "text/markdown": [
       "<span style=\"color:#33cc33\">Correct</span>"
      ],
      "text/plain": [
       "Correct"
      ]
     },
     "metadata": {},
     "output_type": "display_data"
    }
   ],
   "source": [
    "point_strings = reviews.points.astype('str')\n",
    "\n",
    "# Check your answer\n",
    "q2.check()"
   ]
  },
  {
   "cell_type": "code",
   "execution_count": 5,
   "id": "3668b0e2",
   "metadata": {
    "execution": {
     "iopub.execute_input": "2022-11-25T21:06:49.323897Z",
     "iopub.status.busy": "2022-11-25T21:06:49.323515Z",
     "iopub.status.idle": "2022-11-25T21:06:49.327730Z",
     "shell.execute_reply": "2022-11-25T21:06:49.326714Z"
    },
    "papermill": {
     "duration": 0.012469,
     "end_time": "2022-11-25T21:06:49.329812",
     "exception": false,
     "start_time": "2022-11-25T21:06:49.317343",
     "status": "completed"
    },
    "tags": []
   },
   "outputs": [],
   "source": [
    "#q2.hint()\n",
    "#q2.solution()"
   ]
  },
  {
   "cell_type": "markdown",
   "id": "75a7c125",
   "metadata": {
    "papermill": {
     "duration": 0.004578,
     "end_time": "2022-11-25T21:06:49.339310",
     "exception": false,
     "start_time": "2022-11-25T21:06:49.334732",
     "status": "completed"
    },
    "tags": []
   },
   "source": [
    "## 3.\n",
    "Sometimes the price column is null. How many reviews in the dataset are missing a price?"
   ]
  },
  {
   "cell_type": "code",
   "execution_count": 6,
   "id": "fc0f3f87",
   "metadata": {
    "execution": {
     "iopub.execute_input": "2022-11-25T21:06:49.351149Z",
     "iopub.status.busy": "2022-11-25T21:06:49.350762Z",
     "iopub.status.idle": "2022-11-25T21:06:49.360143Z",
     "shell.execute_reply": "2022-11-25T21:06:49.359040Z"
    },
    "papermill": {
     "duration": 0.018242,
     "end_time": "2022-11-25T21:06:49.362393",
     "exception": false,
     "start_time": "2022-11-25T21:06:49.344151",
     "status": "completed"
    },
    "tags": []
   },
   "outputs": [
    {
     "data": {
      "application/javascript": [
       "parent.postMessage({\"jupyterEvent\": \"custom.exercise_interaction\", \"data\": {\"outcomeType\": 1, \"valueTowardsCompletion\": 0.25, \"interactionType\": 1, \"questionType\": 1, \"questionId\": \"3_CountMissingPrices\", \"learnToolsVersion\": \"0.3.4\", \"failureMessage\": \"\", \"exceptionClass\": \"\", \"trace\": \"\"}}, \"*\")"
      ],
      "text/plain": [
       "<IPython.core.display.Javascript object>"
      ]
     },
     "metadata": {},
     "output_type": "display_data"
    },
    {
     "data": {
      "text/markdown": [
       "<span style=\"color:#33cc33\">Correct</span>"
      ],
      "text/plain": [
       "Correct"
      ]
     },
     "metadata": {},
     "output_type": "display_data"
    }
   ],
   "source": [
    "# n_missing_prices = pd.isnull(reviews.points).size\n",
    "# the above code doesnt work because \n",
    "n_missing_prices = reviews.price.isnull().sum()\n",
    "\n",
    "# Check your answer\n",
    "q3.check()"
   ]
  },
  {
   "cell_type": "code",
   "execution_count": 7,
   "id": "6258a1d2",
   "metadata": {
    "execution": {
     "iopub.execute_input": "2022-11-25T21:06:49.374180Z",
     "iopub.status.busy": "2022-11-25T21:06:49.373346Z",
     "iopub.status.idle": "2022-11-25T21:06:49.386043Z",
     "shell.execute_reply": "2022-11-25T21:06:49.385050Z"
    },
    "papermill": {
     "duration": 0.020927,
     "end_time": "2022-11-25T21:06:49.388306",
     "exception": false,
     "start_time": "2022-11-25T21:06:49.367379",
     "status": "completed"
    },
    "tags": []
   },
   "outputs": [
    {
     "data": {
      "application/javascript": [
       "parent.postMessage({\"jupyterEvent\": \"custom.exercise_interaction\", \"data\": {\"interactionType\": 2, \"questionType\": 1, \"questionId\": \"3_CountMissingPrices\", \"learnToolsVersion\": \"0.3.4\", \"valueTowardsCompletion\": 0.0, \"failureMessage\": \"\", \"exceptionClass\": \"\", \"trace\": \"\", \"outcomeType\": 4}}, \"*\")"
      ],
      "text/plain": [
       "<IPython.core.display.Javascript object>"
      ]
     },
     "metadata": {},
     "output_type": "display_data"
    },
    {
     "data": {
      "text/markdown": [
       "<span style=\"color:#3366cc\">Hint:</span> Use `pd.isnull()`."
      ],
      "text/plain": [
       "Hint: Use `pd.isnull()`."
      ]
     },
     "metadata": {},
     "output_type": "display_data"
    },
    {
     "data": {
      "application/javascript": [
       "parent.postMessage({\"jupyterEvent\": \"custom.exercise_interaction\", \"data\": {\"interactionType\": 3, \"questionType\": 1, \"questionId\": \"3_CountMissingPrices\", \"learnToolsVersion\": \"0.3.4\", \"valueTowardsCompletion\": 0.0, \"failureMessage\": \"\", \"exceptionClass\": \"\", \"trace\": \"\", \"outcomeType\": 4}}, \"*\")"
      ],
      "text/plain": [
       "<IPython.core.display.Javascript object>"
      ]
     },
     "metadata": {},
     "output_type": "display_data"
    },
    {
     "data": {
      "text/markdown": [
       "<span style=\"color:#33cc99\">Solution:</span> \n",
       "```python\n",
       "missing_price_reviews = reviews[reviews.price.isnull()]\n",
       "n_missing_prices = len(missing_price_reviews)\n",
       "# Cute alternative solution: if we sum a boolean series, True is treated as 1 and False as 0\n",
       "n_missing_prices = reviews.price.isnull().sum()\n",
       "# or equivalently:\n",
       "n_missing_prices = pd.isnull(reviews.price).sum()\n",
       "\n",
       "```"
      ],
      "text/plain": [
       "Solution: \n",
       "```python\n",
       "missing_price_reviews = reviews[reviews.price.isnull()]\n",
       "n_missing_prices = len(missing_price_reviews)\n",
       "# Cute alternative solution: if we sum a boolean series, True is treated as 1 and False as 0\n",
       "n_missing_prices = reviews.price.isnull().sum()\n",
       "# or equivalently:\n",
       "n_missing_prices = pd.isnull(reviews.price).sum()\n",
       "\n",
       "```"
      ]
     },
     "metadata": {},
     "output_type": "display_data"
    }
   ],
   "source": [
    "q3.hint()\n",
    "q3.solution()"
   ]
  },
  {
   "cell_type": "markdown",
   "id": "0ccb370e",
   "metadata": {
    "papermill": {
     "duration": 0.005047,
     "end_time": "2022-11-25T21:06:49.398795",
     "exception": false,
     "start_time": "2022-11-25T21:06:49.393748",
     "status": "completed"
    },
    "tags": []
   },
   "source": [
    "## 4.\n",
    "What are the most common wine-producing regions? Create a Series counting the number of times each value occurs in the `region_1` field. This field is often missing data, so replace missing values with `Unknown`. Sort in descending order.  Your output should look something like this:\n",
    "\n",
    "```\n",
    "Unknown                    21247\n",
    "Napa Valley                 4480\n",
    "                           ...  \n",
    "Bardolino Superiore            1\n",
    "Primitivo del Tarantino        1\n",
    "Name: region_1, Length: 1230, dtype: int64\n",
    "```"
   ]
  },
  {
   "cell_type": "code",
   "execution_count": 8,
   "id": "3f33bf6f",
   "metadata": {
    "execution": {
     "iopub.execute_input": "2022-11-25T21:06:49.412020Z",
     "iopub.status.busy": "2022-11-25T21:06:49.411652Z",
     "iopub.status.idle": "2022-11-25T21:06:49.452622Z",
     "shell.execute_reply": "2022-11-25T21:06:49.451484Z"
    },
    "papermill": {
     "duration": 0.049942,
     "end_time": "2022-11-25T21:06:49.454944",
     "exception": false,
     "start_time": "2022-11-25T21:06:49.405002",
     "status": "completed"
    },
    "tags": []
   },
   "outputs": [
    {
     "data": {
      "application/javascript": [
       "parent.postMessage({\"jupyterEvent\": \"custom.exercise_interaction\", \"data\": {\"outcomeType\": 1, \"valueTowardsCompletion\": 0.25, \"interactionType\": 1, \"questionType\": 2, \"questionId\": \"4_ReviewsPerRegion\", \"learnToolsVersion\": \"0.3.4\", \"failureMessage\": \"\", \"exceptionClass\": \"\", \"trace\": \"\"}}, \"*\")"
      ],
      "text/plain": [
       "<IPython.core.display.Javascript object>"
      ]
     },
     "metadata": {},
     "output_type": "display_data"
    },
    {
     "data": {
      "text/markdown": [
       "<span style=\"color:#33cc33\">Correct</span>"
      ],
      "text/plain": [
       "Correct"
      ]
     },
     "metadata": {},
     "output_type": "display_data"
    }
   ],
   "source": [
    "reviews_per_region = reviews.region_1.fillna('Unknown').value_counts()\n",
    "\n",
    "# Alternate Solution\n",
    "# reviews_per_region = reviews.region_1.fillna('Unknown').value_counts().sort_values(ascending=False)\n",
    "\n",
    "# Check your answer\n",
    "q4.check()"
   ]
  },
  {
   "cell_type": "code",
   "execution_count": 9,
   "id": "9547e921",
   "metadata": {
    "execution": {
     "iopub.execute_input": "2022-11-25T21:06:49.467938Z",
     "iopub.status.busy": "2022-11-25T21:06:49.467585Z",
     "iopub.status.idle": "2022-11-25T21:06:49.479571Z",
     "shell.execute_reply": "2022-11-25T21:06:49.478531Z"
    },
    "papermill": {
     "duration": 0.021069,
     "end_time": "2022-11-25T21:06:49.481668",
     "exception": false,
     "start_time": "2022-11-25T21:06:49.460599",
     "status": "completed"
    },
    "tags": []
   },
   "outputs": [
    {
     "data": {
      "application/javascript": [
       "parent.postMessage({\"jupyterEvent\": \"custom.exercise_interaction\", \"data\": {\"interactionType\": 2, \"questionType\": 2, \"questionId\": \"4_ReviewsPerRegion\", \"learnToolsVersion\": \"0.3.4\", \"valueTowardsCompletion\": 0.0, \"failureMessage\": \"\", \"exceptionClass\": \"\", \"trace\": \"\", \"outcomeType\": 4}}, \"*\")"
      ],
      "text/plain": [
       "<IPython.core.display.Javascript object>"
      ]
     },
     "metadata": {},
     "output_type": "display_data"
    },
    {
     "data": {
      "text/markdown": [
       "<span style=\"color:#3366cc\">Hint:</span> Use `fillna()`, `value_counts()`, and `sort_values()`."
      ],
      "text/plain": [
       "Hint: Use `fillna()`, `value_counts()`, and `sort_values()`."
      ]
     },
     "metadata": {},
     "output_type": "display_data"
    },
    {
     "data": {
      "application/javascript": [
       "parent.postMessage({\"jupyterEvent\": \"custom.exercise_interaction\", \"data\": {\"interactionType\": 3, \"questionType\": 2, \"questionId\": \"4_ReviewsPerRegion\", \"learnToolsVersion\": \"0.3.4\", \"valueTowardsCompletion\": 0.0, \"failureMessage\": \"\", \"exceptionClass\": \"\", \"trace\": \"\", \"outcomeType\": 4}}, \"*\")"
      ],
      "text/plain": [
       "<IPython.core.display.Javascript object>"
      ]
     },
     "metadata": {},
     "output_type": "display_data"
    },
    {
     "data": {
      "text/markdown": [
       "<span style=\"color:#33cc99\">Solution:</span> \n",
       "```python\n",
       "reviews_per_region = reviews.region_1.fillna('Unknown').value_counts().sort_values(ascending=False)\n",
       "```"
      ],
      "text/plain": [
       "Solution: \n",
       "```python\n",
       "reviews_per_region = reviews.region_1.fillna('Unknown').value_counts().sort_values(ascending=False)\n",
       "```"
      ]
     },
     "metadata": {},
     "output_type": "display_data"
    }
   ],
   "source": [
    "q4.hint()\n",
    "q4.solution()"
   ]
  },
  {
   "cell_type": "markdown",
   "id": "2893fa67",
   "metadata": {
    "papermill": {
     "duration": 0.00595,
     "end_time": "2022-11-25T21:06:49.493586",
     "exception": false,
     "start_time": "2022-11-25T21:06:49.487636",
     "status": "completed"
    },
    "tags": []
   },
   "source": [
    "# Keep going\n",
    "\n",
    "Move on to **[renaming and combining](https://www.kaggle.com/residentmario/renaming-and-combining)**."
   ]
  },
  {
   "cell_type": "markdown",
   "id": "1d66461f",
   "metadata": {
    "papermill": {
     "duration": 0.005962,
     "end_time": "2022-11-25T21:06:49.505645",
     "exception": false,
     "start_time": "2022-11-25T21:06:49.499683",
     "status": "completed"
    },
    "tags": []
   },
   "source": [
    "---\n",
    "\n",
    "\n",
    "\n",
    "\n",
    "*Have questions or comments? Visit the [course discussion forum](https://www.kaggle.com/learn/pandas/discussion) to chat with other learners.*"
   ]
  }
 ],
 "metadata": {
  "kernelspec": {
   "display_name": "Python 3",
   "language": "python",
   "name": "python3"
  },
  "language_info": {
   "codemirror_mode": {
    "name": "ipython",
    "version": 3
   },
   "file_extension": ".py",
   "mimetype": "text/x-python",
   "name": "python",
   "nbconvert_exporter": "python",
   "pygments_lexer": "ipython3",
   "version": "3.7.12"
  },
  "papermill": {
   "default_parameters": {},
   "duration": 12.502149,
   "end_time": "2022-11-25T21:06:50.233985",
   "environment_variables": {},
   "exception": null,
   "input_path": "__notebook__.ipynb",
   "output_path": "__notebook__.ipynb",
   "parameters": {},
   "start_time": "2022-11-25T21:06:37.731836",
   "version": "2.3.4"
  }
 },
 "nbformat": 4,
 "nbformat_minor": 5
}
