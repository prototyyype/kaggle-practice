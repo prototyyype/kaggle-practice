{
 "cells": [
  {
   "cell_type": "markdown",
   "id": "81b9ec04",
   "metadata": {
    "papermill": {
     "duration": 0.006108,
     "end_time": "2022-11-25T20:58:58.038423",
     "exception": false,
     "start_time": "2022-11-25T20:58:58.032315",
     "status": "completed"
    },
    "tags": []
   },
   "source": [
    "**This notebook is an exercise in the [Pandas](https://www.kaggle.com/learn/pandas) course.  You can reference the tutorial at [this link](https://www.kaggle.com/residentmario/data-types-and-missing-values).**\n",
    "\n",
    "---\n"
   ]
  },
  {
   "cell_type": "markdown",
   "id": "a72e3e48",
   "metadata": {
    "papermill": {
     "duration": 0.004185,
     "end_time": "2022-11-25T20:58:58.047486",
     "exception": false,
     "start_time": "2022-11-25T20:58:58.043301",
     "status": "completed"
    },
    "tags": []
   },
   "source": [
    "# Introduction\n",
    "\n",
    "Run the following cell to load your data and some utility functions."
   ]
  },
  {
   "cell_type": "code",
   "execution_count": 1,
   "id": "a962b04c",
   "metadata": {
    "execution": {
     "iopub.execute_input": "2022-11-25T20:58:58.060067Z",
     "iopub.status.busy": "2022-11-25T20:58:58.058970Z",
     "iopub.status.idle": "2022-11-25T20:59:01.222798Z",
     "shell.execute_reply": "2022-11-25T20:59:01.220821Z"
    },
    "papermill": {
     "duration": 3.174589,
     "end_time": "2022-11-25T20:59:01.226566",
     "exception": false,
     "start_time": "2022-11-25T20:58:58.051977",
     "status": "completed"
    },
    "tags": []
   },
   "outputs": [
    {
     "name": "stdout",
     "output_type": "stream",
     "text": [
      "Setup complete.\n"
     ]
    }
   ],
   "source": [
    "import pandas as pd\n",
    "\n",
    "reviews = pd.read_csv(\"../input/wine-reviews/winemag-data-130k-v2.csv\", index_col=0)\n",
    "\n",
    "from learntools.core import binder; binder.bind(globals())\n",
    "from learntools.pandas.data_types_and_missing_data import *\n",
    "print(\"Setup complete.\")"
   ]
  },
  {
   "cell_type": "markdown",
   "id": "e5377c70",
   "metadata": {
    "papermill": {
     "duration": 0.004242,
     "end_time": "2022-11-25T20:59:01.235978",
     "exception": false,
     "start_time": "2022-11-25T20:59:01.231736",
     "status": "completed"
    },
    "tags": []
   },
   "source": [
    "# Exercises"
   ]
  },
  {
   "cell_type": "markdown",
   "id": "8f5504fa",
   "metadata": {
    "papermill": {
     "duration": 0.004135,
     "end_time": "2022-11-25T20:59:01.244683",
     "exception": false,
     "start_time": "2022-11-25T20:59:01.240548",
     "status": "completed"
    },
    "tags": []
   },
   "source": [
    "## 1. \n",
    "What is the data type of the `points` column in the dataset?"
   ]
  },
  {
   "cell_type": "code",
   "execution_count": 2,
   "id": "462ad343",
   "metadata": {
    "execution": {
     "iopub.execute_input": "2022-11-25T20:59:01.256676Z",
     "iopub.status.busy": "2022-11-25T20:59:01.255176Z",
     "iopub.status.idle": "2022-11-25T20:59:01.269156Z",
     "shell.execute_reply": "2022-11-25T20:59:01.268139Z"
    },
    "papermill": {
     "duration": 0.022157,
     "end_time": "2022-11-25T20:59:01.271317",
     "exception": false,
     "start_time": "2022-11-25T20:59:01.249160",
     "status": "completed"
    },
    "tags": []
   },
   "outputs": [
    {
     "data": {
      "application/javascript": [
       "parent.postMessage({\"jupyterEvent\": \"custom.exercise_interaction\", \"data\": {\"outcomeType\": 1, \"valueTowardsCompletion\": 0.25, \"interactionType\": 1, \"questionType\": 1, \"questionId\": \"1_PointsDtype\", \"learnToolsVersion\": \"0.3.4\", \"failureMessage\": \"\", \"exceptionClass\": \"\", \"trace\": \"\"}}, \"*\")"
      ],
      "text/plain": [
       "<IPython.core.display.Javascript object>"
      ]
     },
     "metadata": {},
     "output_type": "display_data"
    },
    {
     "data": {
      "text/markdown": [
       "<span style=\"color:#33cc33\">Correct</span>"
      ],
      "text/plain": [
       "Correct"
      ]
     },
     "metadata": {},
     "output_type": "display_data"
    }
   ],
   "source": [
    "# Your code here\n",
    "dtype = reviews.points.dtype\n",
    "\n",
    "# Check your answer\n",
    "q1.check()"
   ]
  },
  {
   "cell_type": "code",
   "execution_count": 3,
   "id": "7b6fc3e1",
   "metadata": {
    "execution": {
     "iopub.execute_input": "2022-11-25T20:59:01.284177Z",
     "iopub.status.busy": "2022-11-25T20:59:01.283211Z",
     "iopub.status.idle": "2022-11-25T20:59:01.288441Z",
     "shell.execute_reply": "2022-11-25T20:59:01.287137Z"
    },
    "papermill": {
     "duration": 0.014413,
     "end_time": "2022-11-25T20:59:01.291080",
     "exception": false,
     "start_time": "2022-11-25T20:59:01.276667",
     "status": "completed"
    },
    "tags": []
   },
   "outputs": [],
   "source": [
    "#q1.hint()\n",
    "#q1.solution()"
   ]
  },
  {
   "cell_type": "markdown",
   "id": "e08ed7a1",
   "metadata": {
    "papermill": {
     "duration": 0.004551,
     "end_time": "2022-11-25T20:59:01.300603",
     "exception": false,
     "start_time": "2022-11-25T20:59:01.296052",
     "status": "completed"
    },
    "tags": []
   },
   "source": [
    "## 2. \n",
    "Create a Series from entries in the `points` column, but convert the entries to strings. Hint: strings are `str` in native Python."
   ]
  },
  {
   "cell_type": "code",
   "execution_count": 4,
   "id": "f6b3be6a",
   "metadata": {
    "execution": {
     "iopub.execute_input": "2022-11-25T20:59:01.312933Z",
     "iopub.status.busy": "2022-11-25T20:59:01.311914Z",
     "iopub.status.idle": "2022-11-25T20:59:01.396307Z",
     "shell.execute_reply": "2022-11-25T20:59:01.395293Z"
    },
    "papermill": {
     "duration": 0.093003,
     "end_time": "2022-11-25T20:59:01.398828",
     "exception": false,
     "start_time": "2022-11-25T20:59:01.305825",
     "status": "completed"
    },
    "tags": []
   },
   "outputs": [
    {
     "data": {
      "application/javascript": [
       "parent.postMessage({\"jupyterEvent\": \"custom.exercise_interaction\", \"data\": {\"outcomeType\": 1, \"valueTowardsCompletion\": 0.25, \"interactionType\": 1, \"questionType\": 1, \"questionId\": \"2_StrPoints\", \"learnToolsVersion\": \"0.3.4\", \"failureMessage\": \"\", \"exceptionClass\": \"\", \"trace\": \"\"}}, \"*\")"
      ],
      "text/plain": [
       "<IPython.core.display.Javascript object>"
      ]
     },
     "metadata": {},
     "output_type": "display_data"
    },
    {
     "data": {
      "text/markdown": [
       "<span style=\"color:#33cc33\">Correct</span>"
      ],
      "text/plain": [
       "Correct"
      ]
     },
     "metadata": {},
     "output_type": "display_data"
    }
   ],
   "source": [
    "point_strings = reviews.points.astype('str')\n",
    "\n",
    "# Check your answer\n",
    "q2.check()"
   ]
  },
  {
   "cell_type": "code",
   "execution_count": 5,
   "id": "362111af",
   "metadata": {
    "execution": {
     "iopub.execute_input": "2022-11-25T20:59:01.411717Z",
     "iopub.status.busy": "2022-11-25T20:59:01.411302Z",
     "iopub.status.idle": "2022-11-25T20:59:01.416699Z",
     "shell.execute_reply": "2022-11-25T20:59:01.415266Z"
    },
    "papermill": {
     "duration": 0.015397,
     "end_time": "2022-11-25T20:59:01.419953",
     "exception": false,
     "start_time": "2022-11-25T20:59:01.404556",
     "status": "completed"
    },
    "tags": []
   },
   "outputs": [],
   "source": [
    "#q2.hint()\n",
    "#q2.solution()"
   ]
  },
  {
   "cell_type": "markdown",
   "id": "aab9ec50",
   "metadata": {
    "papermill": {
     "duration": 0.005149,
     "end_time": "2022-11-25T20:59:01.430831",
     "exception": false,
     "start_time": "2022-11-25T20:59:01.425682",
     "status": "completed"
    },
    "tags": []
   },
   "source": [
    "## 3.\n",
    "Sometimes the price column is null. How many reviews in the dataset are missing a price?"
   ]
  },
  {
   "cell_type": "code",
   "execution_count": 6,
   "id": "ed2145a6",
   "metadata": {
    "execution": {
     "iopub.execute_input": "2022-11-25T20:59:01.444224Z",
     "iopub.status.busy": "2022-11-25T20:59:01.443454Z",
     "iopub.status.idle": "2022-11-25T20:59:01.454780Z",
     "shell.execute_reply": "2022-11-25T20:59:01.453547Z"
    },
    "papermill": {
     "duration": 0.020859,
     "end_time": "2022-11-25T20:59:01.457104",
     "exception": false,
     "start_time": "2022-11-25T20:59:01.436245",
     "status": "completed"
    },
    "tags": []
   },
   "outputs": [
    {
     "data": {
      "application/javascript": [
       "parent.postMessage({\"jupyterEvent\": \"custom.exercise_interaction\", \"data\": {\"outcomeType\": 1, \"valueTowardsCompletion\": 0.25, \"interactionType\": 1, \"questionType\": 1, \"questionId\": \"3_CountMissingPrices\", \"learnToolsVersion\": \"0.3.4\", \"failureMessage\": \"\", \"exceptionClass\": \"\", \"trace\": \"\"}}, \"*\")"
      ],
      "text/plain": [
       "<IPython.core.display.Javascript object>"
      ]
     },
     "metadata": {},
     "output_type": "display_data"
    },
    {
     "data": {
      "text/markdown": [
       "<span style=\"color:#33cc33\">Correct</span>"
      ],
      "text/plain": [
       "Correct"
      ]
     },
     "metadata": {},
     "output_type": "display_data"
    }
   ],
   "source": [
    "# n_missing_prices = pd.isnull(reviews.points).size\n",
    "# the above code doesnt work because \n",
    "n_missing_prices = reviews.price.isnull().sum()\n",
    "\n",
    "# Check your answer\n",
    "q3.check()"
   ]
  },
  {
   "cell_type": "code",
   "execution_count": 7,
   "id": "24fa0de3",
   "metadata": {
    "execution": {
     "iopub.execute_input": "2022-11-25T20:59:01.470913Z",
     "iopub.status.busy": "2022-11-25T20:59:01.470177Z",
     "iopub.status.idle": "2022-11-25T20:59:01.482791Z",
     "shell.execute_reply": "2022-11-25T20:59:01.481591Z"
    },
    "papermill": {
     "duration": 0.022918,
     "end_time": "2022-11-25T20:59:01.485755",
     "exception": false,
     "start_time": "2022-11-25T20:59:01.462837",
     "status": "completed"
    },
    "tags": []
   },
   "outputs": [
    {
     "data": {
      "application/javascript": [
       "parent.postMessage({\"jupyterEvent\": \"custom.exercise_interaction\", \"data\": {\"interactionType\": 2, \"questionType\": 1, \"questionId\": \"3_CountMissingPrices\", \"learnToolsVersion\": \"0.3.4\", \"valueTowardsCompletion\": 0.0, \"failureMessage\": \"\", \"exceptionClass\": \"\", \"trace\": \"\", \"outcomeType\": 4}}, \"*\")"
      ],
      "text/plain": [
       "<IPython.core.display.Javascript object>"
      ]
     },
     "metadata": {},
     "output_type": "display_data"
    },
    {
     "data": {
      "text/markdown": [
       "<span style=\"color:#3366cc\">Hint:</span> Use `pd.isnull()`."
      ],
      "text/plain": [
       "Hint: Use `pd.isnull()`."
      ]
     },
     "metadata": {},
     "output_type": "display_data"
    },
    {
     "data": {
      "application/javascript": [
       "parent.postMessage({\"jupyterEvent\": \"custom.exercise_interaction\", \"data\": {\"interactionType\": 3, \"questionType\": 1, \"questionId\": \"3_CountMissingPrices\", \"learnToolsVersion\": \"0.3.4\", \"valueTowardsCompletion\": 0.0, \"failureMessage\": \"\", \"exceptionClass\": \"\", \"trace\": \"\", \"outcomeType\": 4}}, \"*\")"
      ],
      "text/plain": [
       "<IPython.core.display.Javascript object>"
      ]
     },
     "metadata": {},
     "output_type": "display_data"
    },
    {
     "data": {
      "text/markdown": [
       "<span style=\"color:#33cc99\">Solution:</span> \n",
       "```python\n",
       "missing_price_reviews = reviews[reviews.price.isnull()]\n",
       "n_missing_prices = len(missing_price_reviews)\n",
       "# Cute alternative solution: if we sum a boolean series, True is treated as 1 and False as 0\n",
       "n_missing_prices = reviews.price.isnull().sum()\n",
       "# or equivalently:\n",
       "n_missing_prices = pd.isnull(reviews.price).sum()\n",
       "\n",
       "```"
      ],
      "text/plain": [
       "Solution: \n",
       "```python\n",
       "missing_price_reviews = reviews[reviews.price.isnull()]\n",
       "n_missing_prices = len(missing_price_reviews)\n",
       "# Cute alternative solution: if we sum a boolean series, True is treated as 1 and False as 0\n",
       "n_missing_prices = reviews.price.isnull().sum()\n",
       "# or equivalently:\n",
       "n_missing_prices = pd.isnull(reviews.price).sum()\n",
       "\n",
       "```"
      ]
     },
     "metadata": {},
     "output_type": "display_data"
    }
   ],
   "source": [
    "q3.hint()\n",
    "q3.solution()"
   ]
  },
  {
   "cell_type": "markdown",
   "id": "a5089f87",
   "metadata": {
    "papermill": {
     "duration": 0.005978,
     "end_time": "2022-11-25T20:59:01.497913",
     "exception": false,
     "start_time": "2022-11-25T20:59:01.491935",
     "status": "completed"
    },
    "tags": []
   },
   "source": [
    "## 4.\n",
    "What are the most common wine-producing regions? Create a Series counting the number of times each value occurs in the `region_1` field. This field is often missing data, so replace missing values with `Unknown`. Sort in descending order.  Your output should look something like this:\n",
    "\n",
    "```\n",
    "Unknown                    21247\n",
    "Napa Valley                 4480\n",
    "                           ...  \n",
    "Bardolino Superiore            1\n",
    "Primitivo del Tarantino        1\n",
    "Name: region_1, Length: 1230, dtype: int64\n",
    "```"
   ]
  },
  {
   "cell_type": "code",
   "execution_count": 8,
   "id": "3a4aabc6",
   "metadata": {
    "execution": {
     "iopub.execute_input": "2022-11-25T20:59:01.513768Z",
     "iopub.status.busy": "2022-11-25T20:59:01.513232Z",
     "iopub.status.idle": "2022-11-25T20:59:01.523132Z",
     "shell.execute_reply": "2022-11-25T20:59:01.521707Z"
    },
    "papermill": {
     "duration": 0.020454,
     "end_time": "2022-11-25T20:59:01.525856",
     "exception": false,
     "start_time": "2022-11-25T20:59:01.505402",
     "status": "completed"
    },
    "tags": []
   },
   "outputs": [
    {
     "data": {
      "application/javascript": [
       "parent.postMessage({\"jupyterEvent\": \"custom.exercise_interaction\", \"data\": {\"outcomeType\": 4, \"interactionType\": 1, \"questionType\": 2, \"questionId\": \"4_ReviewsPerRegion\", \"learnToolsVersion\": \"0.3.4\", \"valueTowardsCompletion\": 0.0, \"failureMessage\": \"\", \"exceptionClass\": \"\", \"trace\": \"\"}}, \"*\")"
      ],
      "text/plain": [
       "<IPython.core.display.Javascript object>"
      ]
     },
     "metadata": {},
     "output_type": "display_data"
    },
    {
     "data": {
      "text/markdown": [
       "<span style=\"color:#ccaa33\">Check:</span> When you've updated the starter code, `check()` will tell you whether your code is correct. You need to update the code that creates variable `reviews_per_region`"
      ],
      "text/plain": [
       "Check: When you've updated the starter code, `check()` will tell you whether your code is correct. You need to update the code that creates variable `reviews_per_region`"
      ]
     },
     "metadata": {},
     "output_type": "display_data"
    }
   ],
   "source": [
    "reviews_per_region = ____\n",
    "# reviews.groupby('region_1')\n",
    "# reviews_per_region.describe\n",
    "\n",
    "\n",
    "# Check your answer\n",
    "q4.check()"
   ]
  },
  {
   "cell_type": "code",
   "execution_count": 9,
   "id": "f11d8f01",
   "metadata": {
    "execution": {
     "iopub.execute_input": "2022-11-25T20:59:01.541695Z",
     "iopub.status.busy": "2022-11-25T20:59:01.541190Z",
     "iopub.status.idle": "2022-11-25T20:59:01.551123Z",
     "shell.execute_reply": "2022-11-25T20:59:01.549826Z"
    },
    "papermill": {
     "duration": 0.02143,
     "end_time": "2022-11-25T20:59:01.553725",
     "exception": false,
     "start_time": "2022-11-25T20:59:01.532295",
     "status": "completed"
    },
    "tags": []
   },
   "outputs": [
    {
     "data": {
      "application/javascript": [
       "parent.postMessage({\"jupyterEvent\": \"custom.exercise_interaction\", \"data\": {\"interactionType\": 2, \"questionType\": 2, \"questionId\": \"4_ReviewsPerRegion\", \"learnToolsVersion\": \"0.3.4\", \"valueTowardsCompletion\": 0.0, \"failureMessage\": \"\", \"exceptionClass\": \"\", \"trace\": \"\", \"outcomeType\": 4}}, \"*\")"
      ],
      "text/plain": [
       "<IPython.core.display.Javascript object>"
      ]
     },
     "metadata": {},
     "output_type": "display_data"
    },
    {
     "data": {
      "text/markdown": [
       "<span style=\"color:#3366cc\">Hint:</span> Use `fillna()`, `value_counts()`, and `sort_values()`."
      ],
      "text/plain": [
       "Hint: Use `fillna()`, `value_counts()`, and `sort_values()`."
      ]
     },
     "metadata": {},
     "output_type": "display_data"
    }
   ],
   "source": [
    "q4.hint()\n",
    "#q4.solution()"
   ]
  },
  {
   "cell_type": "markdown",
   "id": "28688834",
   "metadata": {
    "papermill": {
     "duration": 0.006236,
     "end_time": "2022-11-25T20:59:01.566459",
     "exception": false,
     "start_time": "2022-11-25T20:59:01.560223",
     "status": "completed"
    },
    "tags": []
   },
   "source": [
    "# Keep going\n",
    "\n",
    "Move on to **[renaming and combining](https://www.kaggle.com/residentmario/renaming-and-combining)**."
   ]
  },
  {
   "cell_type": "markdown",
   "id": "6a826417",
   "metadata": {
    "papermill": {
     "duration": 0.006007,
     "end_time": "2022-11-25T20:59:01.578927",
     "exception": false,
     "start_time": "2022-11-25T20:59:01.572920",
     "status": "completed"
    },
    "tags": []
   },
   "source": [
    "---\n",
    "\n",
    "\n",
    "\n",
    "\n",
    "*Have questions or comments? Visit the [course discussion forum](https://www.kaggle.com/learn/pandas/discussion) to chat with other learners.*"
   ]
  }
 ],
 "metadata": {
  "kernelspec": {
   "display_name": "Python 3",
   "language": "python",
   "name": "python3"
  },
  "language_info": {
   "codemirror_mode": {
    "name": "ipython",
    "version": 3
   },
   "file_extension": ".py",
   "mimetype": "text/x-python",
   "name": "python",
   "nbconvert_exporter": "python",
   "pygments_lexer": "ipython3",
   "version": "3.7.12"
  },
  "papermill": {
   "default_parameters": {},
   "duration": 16.068116,
   "end_time": "2022-11-25T20:59:02.611771",
   "environment_variables": {},
   "exception": null,
   "input_path": "__notebook__.ipynb",
   "output_path": "__notebook__.ipynb",
   "parameters": {},
   "start_time": "2022-11-25T20:58:46.543655",
   "version": "2.3.4"
  }
 },
 "nbformat": 4,
 "nbformat_minor": 5
}
